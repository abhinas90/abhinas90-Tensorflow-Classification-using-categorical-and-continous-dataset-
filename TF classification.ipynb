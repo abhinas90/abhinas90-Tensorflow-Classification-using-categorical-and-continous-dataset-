{
 "cells": [
  {
   "cell_type": "markdown",
   "metadata": {},
   "source": [
    "# Classification using Tensorflow."
   ]
  },
  {
   "cell_type": "raw",
   "metadata": {},
   "source": [
    "We'll be working with some California Census Data, we'll be trying to use various features of an individual to predict what class of income they belogn in (>50k or <=50k).\n",
    "\n",
    "Here is some information about the data:\n",
    "\n"
   ]
  },
  {
   "cell_type": "markdown",
   "metadata": {},
   "source": [
    "We'll be working with some California Census Data, we'll be trying to use various features of an individual to predict what class of income they belogn in (>50k or <=50k).\n",
    "\n",
    "Here is some information about the data:\n",
    "\n",
    "Column Name\tType\tDescription\n",
    "age\tContinuous\tThe age of the individual\n",
    "workclass\tCategorical\tThe type of employer the individual has (government, military, private, etc.).\n",
    "fnlwgt\tContinuous\tThe number of people the census takers believe that observation represents (sample weight). This variable will not be used.\n",
    "education\tCategorical\tThe highest level of education achieved for that individual.\n",
    "education_num\tContinuous\tThe highest level of education in numerical form.\n",
    "marital_status\tCategorical\tMarital status of the individual.\n",
    "occupation\tCategorical\tThe occupation of the individual.\n",
    "relationship\tCategorical\tWife, Own-child, Husband, Not-in-family, Other-relative, Unmarried.\n",
    "race\tCategorical\tWhite, Asian-Pac-Islander, Amer-Indian-Eskimo, Other, Black.\n",
    "gender\tCategorical\tFemale, Male.\n",
    "capital_gain\tContinuous\tCapital gains recorded.\n",
    "capital_loss\tContinuous\tCapital Losses recorded.\n",
    "hours_per_week\tContinuous\tHours worked per week.\n",
    "native_country\tCategorical\tCountry of origin of the individual.\n",
    "income\tCategorical\t\">50K\" or \"<=50K\", meaning whether the person makes more than $50,000 annually."
   ]
  },
  {
   "cell_type": "code",
   "execution_count": 1,
   "metadata": {},
   "outputs": [],
   "source": [
    "import pandas as pd\n",
    "import numpy as np\n",
    "import matplotlib.pyplot as plt\n",
    "import tensorflow as tf\n",
    "from sklearn.preprocessing import StandardScaler  # (used to standarize out data)\n",
    "from sklearn.model_selection import train_test_split # ( used to seperate our data set to train and test set)"
   ]
  },
  {
   "cell_type": "code",
   "execution_count": 2,
   "metadata": {},
   "outputs": [],
   "source": [
    "df=pd.read_csv(\"census_data.csv\")"
   ]
  },
  {
   "cell_type": "code",
   "execution_count": 3,
   "metadata": {},
   "outputs": [
    {
     "data": {
      "text/html": [
       "<div>\n",
       "<style scoped>\n",
       "    .dataframe tbody tr th:only-of-type {\n",
       "        vertical-align: middle;\n",
       "    }\n",
       "\n",
       "    .dataframe tbody tr th {\n",
       "        vertical-align: top;\n",
       "    }\n",
       "\n",
       "    .dataframe thead th {\n",
       "        text-align: right;\n",
       "    }\n",
       "</style>\n",
       "<table border=\"1\" class=\"dataframe\">\n",
       "  <thead>\n",
       "    <tr style=\"text-align: right;\">\n",
       "      <th></th>\n",
       "      <th>age</th>\n",
       "      <th>workclass</th>\n",
       "      <th>education</th>\n",
       "      <th>education_num</th>\n",
       "      <th>marital_status</th>\n",
       "      <th>occupation</th>\n",
       "      <th>relationship</th>\n",
       "      <th>race</th>\n",
       "      <th>gender</th>\n",
       "      <th>capital_gain</th>\n",
       "      <th>capital_loss</th>\n",
       "      <th>hours_per_week</th>\n",
       "      <th>native_country</th>\n",
       "      <th>income_bracket</th>\n",
       "    </tr>\n",
       "  </thead>\n",
       "  <tbody>\n",
       "    <tr>\n",
       "      <th>0</th>\n",
       "      <td>39</td>\n",
       "      <td>State-gov</td>\n",
       "      <td>Bachelors</td>\n",
       "      <td>13</td>\n",
       "      <td>Never-married</td>\n",
       "      <td>Adm-clerical</td>\n",
       "      <td>Not-in-family</td>\n",
       "      <td>White</td>\n",
       "      <td>Male</td>\n",
       "      <td>2174</td>\n",
       "      <td>0</td>\n",
       "      <td>40</td>\n",
       "      <td>United-States</td>\n",
       "      <td>&lt;=50K</td>\n",
       "    </tr>\n",
       "    <tr>\n",
       "      <th>1</th>\n",
       "      <td>50</td>\n",
       "      <td>Self-emp-not-inc</td>\n",
       "      <td>Bachelors</td>\n",
       "      <td>13</td>\n",
       "      <td>Married-civ-spouse</td>\n",
       "      <td>Exec-managerial</td>\n",
       "      <td>Husband</td>\n",
       "      <td>White</td>\n",
       "      <td>Male</td>\n",
       "      <td>0</td>\n",
       "      <td>0</td>\n",
       "      <td>13</td>\n",
       "      <td>United-States</td>\n",
       "      <td>&lt;=50K</td>\n",
       "    </tr>\n",
       "    <tr>\n",
       "      <th>2</th>\n",
       "      <td>38</td>\n",
       "      <td>Private</td>\n",
       "      <td>HS-grad</td>\n",
       "      <td>9</td>\n",
       "      <td>Divorced</td>\n",
       "      <td>Handlers-cleaners</td>\n",
       "      <td>Not-in-family</td>\n",
       "      <td>White</td>\n",
       "      <td>Male</td>\n",
       "      <td>0</td>\n",
       "      <td>0</td>\n",
       "      <td>40</td>\n",
       "      <td>United-States</td>\n",
       "      <td>&lt;=50K</td>\n",
       "    </tr>\n",
       "    <tr>\n",
       "      <th>3</th>\n",
       "      <td>53</td>\n",
       "      <td>Private</td>\n",
       "      <td>11th</td>\n",
       "      <td>7</td>\n",
       "      <td>Married-civ-spouse</td>\n",
       "      <td>Handlers-cleaners</td>\n",
       "      <td>Husband</td>\n",
       "      <td>Black</td>\n",
       "      <td>Male</td>\n",
       "      <td>0</td>\n",
       "      <td>0</td>\n",
       "      <td>40</td>\n",
       "      <td>United-States</td>\n",
       "      <td>&lt;=50K</td>\n",
       "    </tr>\n",
       "    <tr>\n",
       "      <th>4</th>\n",
       "      <td>28</td>\n",
       "      <td>Private</td>\n",
       "      <td>Bachelors</td>\n",
       "      <td>13</td>\n",
       "      <td>Married-civ-spouse</td>\n",
       "      <td>Prof-specialty</td>\n",
       "      <td>Wife</td>\n",
       "      <td>Black</td>\n",
       "      <td>Female</td>\n",
       "      <td>0</td>\n",
       "      <td>0</td>\n",
       "      <td>40</td>\n",
       "      <td>Cuba</td>\n",
       "      <td>&lt;=50K</td>\n",
       "    </tr>\n",
       "  </tbody>\n",
       "</table>\n",
       "</div>"
      ],
      "text/plain": [
       "   age          workclass   education  education_num       marital_status  \\\n",
       "0   39          State-gov   Bachelors             13        Never-married   \n",
       "1   50   Self-emp-not-inc   Bachelors             13   Married-civ-spouse   \n",
       "2   38            Private     HS-grad              9             Divorced   \n",
       "3   53            Private        11th              7   Married-civ-spouse   \n",
       "4   28            Private   Bachelors             13   Married-civ-spouse   \n",
       "\n",
       "           occupation    relationship    race   gender  capital_gain  \\\n",
       "0        Adm-clerical   Not-in-family   White     Male          2174   \n",
       "1     Exec-managerial         Husband   White     Male             0   \n",
       "2   Handlers-cleaners   Not-in-family   White     Male             0   \n",
       "3   Handlers-cleaners         Husband   Black     Male             0   \n",
       "4      Prof-specialty            Wife   Black   Female             0   \n",
       "\n",
       "   capital_loss  hours_per_week  native_country income_bracket  \n",
       "0             0              40   United-States          <=50K  \n",
       "1             0              13   United-States          <=50K  \n",
       "2             0              40   United-States          <=50K  \n",
       "3             0              40   United-States          <=50K  \n",
       "4             0              40            Cuba          <=50K  "
      ]
     },
     "execution_count": 3,
     "metadata": {},
     "output_type": "execute_result"
    }
   ],
   "source": [
    "df.head()"
   ]
  },
  {
   "cell_type": "code",
   "execution_count": 4,
   "metadata": {},
   "outputs": [
    {
     "name": "stdout",
     "output_type": "stream",
     "text": [
      "<class 'pandas.core.frame.DataFrame'>\n",
      "RangeIndex: 32561 entries, 0 to 32560\n",
      "Data columns (total 14 columns):\n",
      "age               32561 non-null int64\n",
      "workclass         32561 non-null object\n",
      "education         32561 non-null object\n",
      "education_num     32561 non-null int64\n",
      "marital_status    32561 non-null object\n",
      "occupation        32561 non-null object\n",
      "relationship      32561 non-null object\n",
      "race              32561 non-null object\n",
      "gender            32561 non-null object\n",
      "capital_gain      32561 non-null int64\n",
      "capital_loss      32561 non-null int64\n",
      "hours_per_week    32561 non-null int64\n",
      "native_country    32561 non-null object\n",
      "income_bracket    32561 non-null object\n",
      "dtypes: int64(5), object(9)\n",
      "memory usage: 3.5+ MB\n"
     ]
    }
   ],
   "source": [
    "df.info()"
   ]
  },
  {
   "cell_type": "code",
   "execution_count": 5,
   "metadata": {},
   "outputs": [
    {
     "data": {
      "text/plain": [
       "2"
      ]
     },
     "execution_count": 5,
     "metadata": {},
     "output_type": "execute_result"
    }
   ],
   "source": [
    "df.income_bracket.nunique()"
   ]
  },
  {
   "cell_type": "markdown",
   "metadata": {},
   "source": [
    "First lets comvert out target column to numeric: Luck we dont have any missing value here"
   ]
  },
  {
   "cell_type": "code",
   "execution_count": 10,
   "metadata": {},
   "outputs": [],
   "source": [
    "def income(x):\n",
    "    if x ==\" <=50K\":\n",
    "        return 0\n",
    "    else:\n",
    "        return 1"
   ]
  },
  {
   "cell_type": "code",
   "execution_count": 13,
   "metadata": {},
   "outputs": [],
   "source": [
    "df[\"income_bracket\"]=df[\"income_bracket\"].apply(income)"
   ]
  },
  {
   "cell_type": "code",
   "execution_count": 14,
   "metadata": {},
   "outputs": [
    {
     "data": {
      "text/html": [
       "<div>\n",
       "<style scoped>\n",
       "    .dataframe tbody tr th:only-of-type {\n",
       "        vertical-align: middle;\n",
       "    }\n",
       "\n",
       "    .dataframe tbody tr th {\n",
       "        vertical-align: top;\n",
       "    }\n",
       "\n",
       "    .dataframe thead th {\n",
       "        text-align: right;\n",
       "    }\n",
       "</style>\n",
       "<table border=\"1\" class=\"dataframe\">\n",
       "  <thead>\n",
       "    <tr style=\"text-align: right;\">\n",
       "      <th></th>\n",
       "      <th>age</th>\n",
       "      <th>workclass</th>\n",
       "      <th>education</th>\n",
       "      <th>education_num</th>\n",
       "      <th>marital_status</th>\n",
       "      <th>occupation</th>\n",
       "      <th>relationship</th>\n",
       "      <th>race</th>\n",
       "      <th>gender</th>\n",
       "      <th>capital_gain</th>\n",
       "      <th>capital_loss</th>\n",
       "      <th>hours_per_week</th>\n",
       "      <th>native_country</th>\n",
       "      <th>income_bracket</th>\n",
       "    </tr>\n",
       "  </thead>\n",
       "  <tbody>\n",
       "    <tr>\n",
       "      <th>0</th>\n",
       "      <td>39</td>\n",
       "      <td>State-gov</td>\n",
       "      <td>Bachelors</td>\n",
       "      <td>13</td>\n",
       "      <td>Never-married</td>\n",
       "      <td>Adm-clerical</td>\n",
       "      <td>Not-in-family</td>\n",
       "      <td>White</td>\n",
       "      <td>Male</td>\n",
       "      <td>2174</td>\n",
       "      <td>0</td>\n",
       "      <td>40</td>\n",
       "      <td>United-States</td>\n",
       "      <td>0</td>\n",
       "    </tr>\n",
       "    <tr>\n",
       "      <th>1</th>\n",
       "      <td>50</td>\n",
       "      <td>Self-emp-not-inc</td>\n",
       "      <td>Bachelors</td>\n",
       "      <td>13</td>\n",
       "      <td>Married-civ-spouse</td>\n",
       "      <td>Exec-managerial</td>\n",
       "      <td>Husband</td>\n",
       "      <td>White</td>\n",
       "      <td>Male</td>\n",
       "      <td>0</td>\n",
       "      <td>0</td>\n",
       "      <td>13</td>\n",
       "      <td>United-States</td>\n",
       "      <td>0</td>\n",
       "    </tr>\n",
       "    <tr>\n",
       "      <th>2</th>\n",
       "      <td>38</td>\n",
       "      <td>Private</td>\n",
       "      <td>HS-grad</td>\n",
       "      <td>9</td>\n",
       "      <td>Divorced</td>\n",
       "      <td>Handlers-cleaners</td>\n",
       "      <td>Not-in-family</td>\n",
       "      <td>White</td>\n",
       "      <td>Male</td>\n",
       "      <td>0</td>\n",
       "      <td>0</td>\n",
       "      <td>40</td>\n",
       "      <td>United-States</td>\n",
       "      <td>0</td>\n",
       "    </tr>\n",
       "    <tr>\n",
       "      <th>3</th>\n",
       "      <td>53</td>\n",
       "      <td>Private</td>\n",
       "      <td>11th</td>\n",
       "      <td>7</td>\n",
       "      <td>Married-civ-spouse</td>\n",
       "      <td>Handlers-cleaners</td>\n",
       "      <td>Husband</td>\n",
       "      <td>Black</td>\n",
       "      <td>Male</td>\n",
       "      <td>0</td>\n",
       "      <td>0</td>\n",
       "      <td>40</td>\n",
       "      <td>United-States</td>\n",
       "      <td>0</td>\n",
       "    </tr>\n",
       "    <tr>\n",
       "      <th>4</th>\n",
       "      <td>28</td>\n",
       "      <td>Private</td>\n",
       "      <td>Bachelors</td>\n",
       "      <td>13</td>\n",
       "      <td>Married-civ-spouse</td>\n",
       "      <td>Prof-specialty</td>\n",
       "      <td>Wife</td>\n",
       "      <td>Black</td>\n",
       "      <td>Female</td>\n",
       "      <td>0</td>\n",
       "      <td>0</td>\n",
       "      <td>40</td>\n",
       "      <td>Cuba</td>\n",
       "      <td>0</td>\n",
       "    </tr>\n",
       "  </tbody>\n",
       "</table>\n",
       "</div>"
      ],
      "text/plain": [
       "   age          workclass   education  education_num       marital_status  \\\n",
       "0   39          State-gov   Bachelors             13        Never-married   \n",
       "1   50   Self-emp-not-inc   Bachelors             13   Married-civ-spouse   \n",
       "2   38            Private     HS-grad              9             Divorced   \n",
       "3   53            Private        11th              7   Married-civ-spouse   \n",
       "4   28            Private   Bachelors             13   Married-civ-spouse   \n",
       "\n",
       "           occupation    relationship    race   gender  capital_gain  \\\n",
       "0        Adm-clerical   Not-in-family   White     Male          2174   \n",
       "1     Exec-managerial         Husband   White     Male             0   \n",
       "2   Handlers-cleaners   Not-in-family   White     Male             0   \n",
       "3   Handlers-cleaners         Husband   Black     Male             0   \n",
       "4      Prof-specialty            Wife   Black   Female             0   \n",
       "\n",
       "   capital_loss  hours_per_week  native_country  income_bracket  \n",
       "0             0              40   United-States               0  \n",
       "1             0              13   United-States               0  \n",
       "2             0              40   United-States               0  \n",
       "3             0              40   United-States               0  \n",
       "4             0              40            Cuba               0  "
      ]
     },
     "execution_count": 14,
     "metadata": {},
     "output_type": "execute_result"
    }
   ],
   "source": [
    "df.head()"
   ]
  },
  {
   "cell_type": "markdown",
   "metadata": {},
   "source": [
    "So now where there income_braket is 0 they will make less than 50k if 1 they will make more than 50k"
   ]
  },
  {
   "cell_type": "code",
   "execution_count": 16,
   "metadata": {},
   "outputs": [],
   "source": [
    "from sklearn.model_selection import train_test_split"
   ]
  },
  {
   "cell_type": "code",
   "execution_count": 18,
   "metadata": {},
   "outputs": [],
   "source": [
    "X= df.drop(\"income_bracket\",axis=1)\n",
    "y=df.income_bracket"
   ]
  },
  {
   "cell_type": "markdown",
   "metadata": {},
   "source": [
    "Now lets split out data set into train and test sets:"
   ]
  },
  {
   "cell_type": "code",
   "execution_count": 19,
   "metadata": {},
   "outputs": [],
   "source": [
    "X_train, X_test, y_train, y_test = train_test_split(X, y, test_size=0.3,random_state=29)"
   ]
  },
  {
   "cell_type": "code",
   "execution_count": 20,
   "metadata": {},
   "outputs": [],
   "source": [
    "import tensorflow as tf"
   ]
  },
  {
   "cell_type": "code",
   "execution_count": 40,
   "metadata": {},
   "outputs": [
    {
     "data": {
      "text/plain": [
       "Index(['age', 'workclass', 'education', 'education_num', 'marital_status',\n",
       "       'occupation', 'relationship', 'race', 'gender', 'capital_gain',\n",
       "       'capital_loss', 'hours_per_week', 'native_country'],\n",
       "      dtype='object')"
      ]
     },
     "execution_count": 40,
     "metadata": {},
     "output_type": "execute_result"
    }
   ],
   "source": [
    "X.columns"
   ]
  },
  {
   "cell_type": "code",
   "execution_count": 23,
   "metadata": {},
   "outputs": [
    {
     "data": {
      "text/plain": [
       "age                73\n",
       "workclass           9\n",
       "education          16\n",
       "education_num      16\n",
       "marital_status      7\n",
       "occupation         15\n",
       "relationship        6\n",
       "race                5\n",
       "gender              2\n",
       "capital_gain      119\n",
       "capital_loss       92\n",
       "hours_per_week     94\n",
       "native_country     42\n",
       "dtype: int64"
      ]
     },
     "execution_count": 23,
     "metadata": {},
     "output_type": "execute_result"
    }
   ],
   "source": [
    "X.nunique()"
   ]
  },
  {
   "cell_type": "code",
   "execution_count": 37,
   "metadata": {},
   "outputs": [
    {
     "data": {
      "text/plain": [
       "array([<matplotlib.axes._subplots.AxesSubplot object at 0x1a27d47828>,\n",
       "       <matplotlib.axes._subplots.AxesSubplot object at 0x1a2874ce48>],\n",
       "      dtype=object)"
      ]
     },
     "execution_count": 37,
     "metadata": {},
     "output_type": "execute_result"
    },
    {
     "data": {
      "image/png": "[encoded data removed]",
      "text/plain": [
       "<Figure size 432x288 with 2 Axes>"
      ]
     },
     "metadata": {
      "needs_background": "light"
     },
     "output_type": "display_data"
    }
   ],
   "source": [
    "df[df[\"capital_gain\"]!=0][\"capital_gain\"].hist(by=df.income_bracket)"
   ]
  },
  {
   "cell_type": "code",
   "execution_count": 38,
   "metadata": {},
   "outputs": [
    {
     "data": {
      "text/plain": [
       "array([<matplotlib.axes._subplots.AxesSubplot object at 0x1a287c2ac8>,\n",
       "       <matplotlib.axes._subplots.AxesSubplot object at 0x1a27f647f0>],\n",
       "      dtype=object)"
      ]
     },
     "execution_count": 38,
     "metadata": {},
     "output_type": "execute_result"
    },
    {
     "data": {
      "image/png": "[encoded data removed]",
      "text/plain": [
       "<Figure size 432x288 with 2 Axes>"
      ]
     },
     "metadata": {
      "needs_background": "light"
     },
     "output_type": "display_data"
    }
   ],
   "source": [
    "df[df[\"capital_loss\"]!=0][\"capital_loss\"].hist(by=df.income_bracket)"
   ]
  },
  {
   "cell_type": "code",
   "execution_count": 41,
   "metadata": {},
   "outputs": [
    {
     "data": {
      "text/plain": [
       "array([<matplotlib.axes._subplots.AxesSubplot object at 0x1a281029e8>,\n",
       "       <matplotlib.axes._subplots.AxesSubplot object at 0x1a28d9f668>],\n",
       "      dtype=object)"
      ]
     },
     "execution_count": 41,
     "metadata": {},
     "output_type": "execute_result"
    },
    {
     "data": {
      "image/png": "[encoded data removed]",
      "text/plain": [
       "<Figure size 432x288 with 2 Axes>"
      ]
     },
     "metadata": {
      "needs_background": "light"
     },
     "output_type": "display_data"
    }
   ],
   "source": [
    "df[df[\"hours_per_week\"]!=0][\"hours_per_week\"].hist(by=df.income_bracket)"
   ]
  },
  {
   "cell_type": "markdown",
   "metadata": {},
   "source": [
    "Now let's sepetate out categorican and continous data from X dataframe. we can do this by using tensorflow categorical feature"
   ]
  },
  {
   "cell_type": "code",
   "execution_count": 138,
   "metadata": {},
   "outputs": [],
   "source": [
    "age=tf.feature_column.numeric_column(\"age\")\n",
    "age=tf.feature_column.bucketized_column(age,boundaries=[31,46,60,75,90])"
   ]
  },
  {
   "cell_type": "code",
   "execution_count": 172,
   "metadata": {},
   "outputs": [],
   "source": [
    "workclass=tf.feature_column.categorical_column_with_hash_bucket(\"workclass\",hash_bucket_size=9)\n",
    "workclass=tf.feature_column.embedding_column(workclass,9)"
   ]
  },
  {
   "cell_type": "code",
   "execution_count": 140,
   "metadata": {},
   "outputs": [],
   "source": [
    "education=tf.feature_column.categorical_column_with_hash_bucket(\"education\",hash_bucket_size=20)\n",
    "education=tf.feature_column.embedding_column(education,dimension=16)"
   ]
  },
  {
   "cell_type": "code",
   "execution_count": 82,
   "metadata": {},
   "outputs": [],
   "source": [
    "education_num=tf.feature_column.numeric_column(\"education_num\")"
   ]
  },
  {
   "cell_type": "code",
   "execution_count": 144,
   "metadata": {},
   "outputs": [],
   "source": [
    "marital_status=tf.feature_column.categorical_column_with_hash_bucket(\"marital_status\",hash_bucket_size=10)\n",
    "marital_status=tf.feature_column.embedding_column(marital_status,dimension=7)"
   ]
  },
  {
   "cell_type": "code",
   "execution_count": 156,
   "metadata": {},
   "outputs": [],
   "source": [
    "occupation=tf.feature_column.categorical_column_with_hash_bucket(\"occupation\",hash_bucket_size=10)\n",
    "occupation=tf.feature_column.embedding_column(occupation,10)"
   ]
  },
  {
   "cell_type": "code",
   "execution_count": 155,
   "metadata": {},
   "outputs": [],
   "source": [
    "relationship=tf.feature_column.categorical_column_with_hash_bucket(\"relationship\",hash_bucket_size=10)\n",
    "relationship=tf.feature_column.embedding_column(relationship,10)"
   ]
  },
  {
   "cell_type": "code",
   "execution_count": 161,
   "metadata": {},
   "outputs": [],
   "source": [
    "race=tf.feature_column.categorical_column_with_vocabulary_list(\"race\",[\" White\",\" Black\",\" Asian-Pac-Islander\",\n",
    "                                                                       \" Amer-Indian-Eskimo\",\" Other\"])\n",
    "race=tf.feature_column.embedding_column(race,5)"
   ]
  },
  {
   "cell_type": "code",
   "execution_count": 163,
   "metadata": {},
   "outputs": [],
   "source": [
    "gender=tf.feature_column.categorical_column_with_vocabulary_list(\"gender\",[\" Male\",\" Female\"])\n",
    "gender=tf.feature_column.embedding_column(gender,2)"
   ]
  },
  {
   "cell_type": "code",
   "execution_count": 73,
   "metadata": {},
   "outputs": [],
   "source": [
    "capital_gain=tf.feature_column.numeric_column(\"capital_gain\")\n",
    "capital_gain"
   ]
  },
  {
   "cell_type": "code",
   "execution_count": 74,
   "metadata": {},
   "outputs": [],
   "source": [
    "capital_loss=tf.feature_column.numeric_column(\"capital_loss\")"
   ]
  },
  {
   "cell_type": "code",
   "execution_count": 75,
   "metadata": {},
   "outputs": [],
   "source": [
    "hours_per_week=tf.feature_column.numeric_column(\"hours_per_week\")"
   ]
  },
  {
   "cell_type": "code",
   "execution_count": 149,
   "metadata": {},
   "outputs": [],
   "source": [
    "native_country=tf.feature_column.categorical_column_with_hash_bucket(\"native_country\",hash_bucket_size=50)\n",
    "native_country=tf.feature_column.embedding_column(native_country,50)"
   ]
  },
  {
   "cell_type": "code",
   "execution_count": 139,
   "metadata": {},
   "outputs": [
    {
     "data": {
      "text/plain": [
       "array([' Bachelors', ' HS-grad', ' 11th', ' Masters', ' 9th',\n",
       "       ' Some-college', ' Assoc-acdm', ' Assoc-voc', ' 7th-8th',\n",
       "       ' Doctorate', ' Prof-school', ' 5th-6th', ' 10th', ' 1st-4th',\n",
       "       ' Preschool', ' 12th'], dtype=object)"
      ]
     },
     "execution_count": 139,
     "metadata": {},
     "output_type": "execute_result"
    }
   ],
   "source": [
    "df.education.unique()"
   ]
  },
  {
   "cell_type": "code",
   "execution_count": null,
   "metadata": {},
   "outputs": [],
   "source": []
  },
  {
   "cell_type": "code",
   "execution_count": null,
   "metadata": {},
   "outputs": [],
   "source": []
  },
  {
   "cell_type": "code",
   "execution_count": null,
   "metadata": {},
   "outputs": [],
   "source": []
  },
  {
   "cell_type": "code",
   "execution_count": null,
   "metadata": {},
   "outputs": [],
   "source": []
  },
  {
   "cell_type": "code",
   "execution_count": null,
   "metadata": {},
   "outputs": [],
   "source": []
  },
  {
   "cell_type": "code",
   "execution_count": null,
   "metadata": {},
   "outputs": [],
   "source": []
  },
  {
   "cell_type": "code",
   "execution_count": null,
   "metadata": {},
   "outputs": [],
   "source": []
  },
  {
   "cell_type": "markdown",
   "metadata": {},
   "source": [
    "# Embeding Function need to use this for DNN clasifier "
   ]
  },
  {
   "cell_type": "code",
   "execution_count": 130,
   "metadata": {},
   "outputs": [],
   "source": [
    "gender=tf.feature_column.embedding_column(gender, dimension=2)"
   ]
  },
  {
   "cell_type": "code",
   "execution_count": 173,
   "metadata": {},
   "outputs": [],
   "source": [
    "\n",
    "feat_col=[age,workclass,education,education_num,marital_status,\n",
    "       occupation,relationship,race,gender,capital_gain,\n",
    "       capital_loss,hours_per_week,native_country]"
   ]
  },
  {
   "cell_type": "code",
   "execution_count": 84,
   "metadata": {},
   "outputs": [
    {
     "data": {
      "text/plain": [
       "[NumericColumn(key='age', shape=(1,), default_value=None, dtype=tf.float32, normalizer_fn=None),\n",
       " HashedCategoricalColumn(key='workclass', hash_bucket_size=9, dtype=tf.string),\n",
       " HashedCategoricalColumn(key='education', hash_bucket_size=20, dtype=tf.string),\n",
       " NumericColumn(key='education_num', shape=(1,), default_value=None, dtype=tf.float32, normalizer_fn=None),\n",
       " HashedCategoricalColumn(key='marital_status', hash_bucket_size=10, dtype=tf.string),\n",
       " HashedCategoricalColumn(key='occupation', hash_bucket_size=10, dtype=tf.string),\n",
       " HashedCategoricalColumn(key='relationship', hash_bucket_size=10, dtype=tf.string),\n",
       " VocabularyListCategoricalColumn(key='race', vocabulary_list=(' White', ' Black', ' Asian-Pac-Islander', ' Amer-Indian-Eskimo', ' Other'), dtype=tf.string, default_value=-1, num_oov_buckets=0),\n",
       " VocabularyListCategoricalColumn(key='gender', vocabulary_list=(' Male', ' Female'), dtype=tf.string, default_value=-1, num_oov_buckets=0),\n",
       " NumericColumn(key='capital_gain', shape=(1,), default_value=None, dtype=tf.float32, normalizer_fn=None),\n",
       " NumericColumn(key='capital_loss', shape=(1,), default_value=None, dtype=tf.float32, normalizer_fn=None),\n",
       " NumericColumn(key='hours_per_week', shape=(1,), default_value=None, dtype=tf.float32, normalizer_fn=None),\n",
       " HashedCategoricalColumn(key='native_country', hash_bucket_size=50, dtype=tf.string)]"
      ]
     },
     "execution_count": 84,
     "metadata": {},
     "output_type": "execute_result"
    }
   ],
   "source": [
    "feat_col"
   ]
  },
  {
   "cell_type": "code",
   "execution_count": 127,
   "metadata": {},
   "outputs": [],
   "source": [
    "input_func=tf.estimator.inputs.pandas_input_fn(X_train,y_train,batch_size=100,num_epochs=1000,shuffle=True)"
   ]
  },
  {
   "cell_type": "code",
   "execution_count": 128,
   "metadata": {},
   "outputs": [
    {
     "name": "stdout",
     "output_type": "stream",
     "text": [
      "INFO:tensorflow:Using default config.\n",
      "WARNING:tensorflow:Using temporary folder as model directory: /var/folders/v1/l6r3kv8s1dxc11vbv286xr1h0000gn/T/tmp_y6fblsg\n",
      "INFO:tensorflow:Using config: {'_model_dir': '/var/folders/v1/l6r3kv8s1dxc11vbv286xr1h0000gn/T/tmp_y6fblsg', '_tf_random_seed': None, '_save_summary_steps': 100, '_save_checkpoints_steps': None, '_save_checkpoints_secs': 600, '_session_config': allow_soft_placement: true\n",
      "graph_options {\n",
      "  rewrite_options {\n",
      "    meta_optimizer_iterations: ONE\n",
      "  }\n",
      "}\n",
      ", '_keep_checkpoint_max': 5, '_keep_checkpoint_every_n_hours': 10000, '_log_step_count_steps': 100, '_train_distribute': None, '_device_fn': None, '_protocol': None, '_eval_distribute': None, '_experimental_distribute': None, '_service': None, '_cluster_spec': <tensorflow.python.training.server_lib.ClusterSpec object at 0x1a2df969b0>, '_task_type': 'worker', '_task_id': 0, '_global_id_in_cluster': 0, '_master': '', '_evaluation_master': '', '_is_chief': True, '_num_ps_replicas': 0, '_num_worker_replicas': 1}\n"
     ]
    }
   ],
   "source": [
    "model=tf.estimator.LinearClassifier(feature_columns=feat_col)"
   ]
  },
  {
   "cell_type": "code",
   "execution_count": 129,
   "metadata": {},
   "outputs": [
    {
     "name": "stdout",
     "output_type": "stream",
     "text": [
      "INFO:tensorflow:Calling model_fn.\n",
      "INFO:tensorflow:Done calling model_fn.\n",
      "INFO:tensorflow:Create CheckpointSaverHook.\n",
      "INFO:tensorflow:Graph was finalized.\n",
      "INFO:tensorflow:Running local_init_op.\n",
      "INFO:tensorflow:Done running local_init_op.\n",
      "INFO:tensorflow:Saving checkpoints for 0 into /var/folders/v1/l6r3kv8s1dxc11vbv286xr1h0000gn/T/tmp_y6fblsg/model.ckpt.\n",
      "INFO:tensorflow:loss = 69.31472, step = 1\n",
      "INFO:tensorflow:global_step/sec: 108.796\n",
      "INFO:tensorflow:loss = 628.5217, step = 101 (0.924 sec)\n",
      "INFO:tensorflow:global_step/sec: 227.754\n",
      "INFO:tensorflow:loss = 530.58234, step = 201 (0.439 sec)\n",
      "INFO:tensorflow:global_step/sec: 223.932\n",
      "INFO:tensorflow:loss = 36.249405, step = 301 (0.445 sec)\n",
      "INFO:tensorflow:global_step/sec: 185.682\n",
      "INFO:tensorflow:loss = 65.14705, step = 401 (0.540 sec)\n",
      "INFO:tensorflow:global_step/sec: 215.113\n",
      "INFO:tensorflow:loss = 214.11734, step = 501 (0.461 sec)\n",
      "INFO:tensorflow:global_step/sec: 218.928\n",
      "INFO:tensorflow:loss = 86.83451, step = 601 (0.461 sec)\n",
      "INFO:tensorflow:global_step/sec: 167.89\n",
      "INFO:tensorflow:loss = 41.84695, step = 701 (0.597 sec)\n",
      "INFO:tensorflow:global_step/sec: 235.985\n",
      "INFO:tensorflow:loss = 233.14229, step = 801 (0.421 sec)\n",
      "INFO:tensorflow:global_step/sec: 233.638\n",
      "INFO:tensorflow:loss = 101.24103, step = 901 (0.428 sec)\n",
      "INFO:tensorflow:global_step/sec: 156.897\n",
      "INFO:tensorflow:loss = 48.846134, step = 1001 (0.637 sec)\n",
      "INFO:tensorflow:global_step/sec: 224.201\n",
      "INFO:tensorflow:loss = 386.15665, step = 1101 (0.445 sec)\n",
      "INFO:tensorflow:global_step/sec: 191.76\n",
      "INFO:tensorflow:loss = 197.46677, step = 1201 (0.522 sec)\n",
      "INFO:tensorflow:global_step/sec: 196.112\n",
      "INFO:tensorflow:loss = 176.88655, step = 1301 (0.509 sec)\n",
      "INFO:tensorflow:global_step/sec: 242.332\n",
      "INFO:tensorflow:loss = 361.85895, step = 1401 (0.414 sec)\n",
      "INFO:tensorflow:global_step/sec: 242.158\n",
      "INFO:tensorflow:loss = 42.485645, step = 1501 (0.413 sec)\n",
      "INFO:tensorflow:global_step/sec: 205.634\n",
      "INFO:tensorflow:loss = 177.30244, step = 1601 (0.487 sec)\n",
      "INFO:tensorflow:global_step/sec: 225.126\n",
      "INFO:tensorflow:loss = 69.01675, step = 1701 (0.443 sec)\n",
      "INFO:tensorflow:global_step/sec: 225.855\n",
      "INFO:tensorflow:loss = 79.51802, step = 1801 (0.441 sec)\n",
      "INFO:tensorflow:global_step/sec: 234.518\n",
      "INFO:tensorflow:loss = 71.82852, step = 1901 (0.428 sec)\n",
      "INFO:tensorflow:global_step/sec: 233.946\n",
      "INFO:tensorflow:loss = 91.46916, step = 2001 (0.426 sec)\n",
      "INFO:tensorflow:global_step/sec: 240.604\n",
      "INFO:tensorflow:loss = 497.876, step = 2101 (0.418 sec)\n",
      "INFO:tensorflow:global_step/sec: 232.861\n",
      "INFO:tensorflow:loss = 48.567238, step = 2201 (0.426 sec)\n",
      "INFO:tensorflow:global_step/sec: 212.09\n",
      "INFO:tensorflow:loss = 83.165764, step = 2301 (0.471 sec)\n",
      "INFO:tensorflow:global_step/sec: 232.945\n",
      "INFO:tensorflow:loss = 74.99386, step = 2401 (0.431 sec)\n",
      "INFO:tensorflow:global_step/sec: 202.827\n",
      "INFO:tensorflow:loss = 369.97546, step = 2501 (0.495 sec)\n",
      "INFO:tensorflow:global_step/sec: 198.242\n",
      "INFO:tensorflow:loss = 46.16203, step = 2601 (0.501 sec)\n",
      "INFO:tensorflow:global_step/sec: 211.949\n",
      "INFO:tensorflow:loss = 277.93747, step = 2701 (0.474 sec)\n",
      "INFO:tensorflow:global_step/sec: 232.834\n",
      "INFO:tensorflow:loss = 23.34927, step = 2801 (0.431 sec)\n",
      "INFO:tensorflow:global_step/sec: 235.055\n",
      "INFO:tensorflow:loss = 83.63906, step = 2901 (0.424 sec)\n",
      "INFO:tensorflow:global_step/sec: 242.328\n",
      "INFO:tensorflow:loss = 36.42814, step = 3001 (0.412 sec)\n",
      "INFO:tensorflow:global_step/sec: 201.017\n",
      "INFO:tensorflow:loss = 34.621662, step = 3101 (0.500 sec)\n",
      "INFO:tensorflow:global_step/sec: 191.304\n",
      "INFO:tensorflow:loss = 44.30436, step = 3201 (0.521 sec)\n",
      "INFO:tensorflow:global_step/sec: 232.316\n",
      "INFO:tensorflow:loss = 99.918365, step = 3301 (0.431 sec)\n",
      "INFO:tensorflow:global_step/sec: 237.122\n",
      "INFO:tensorflow:loss = 92.05464, step = 3401 (0.419 sec)\n",
      "INFO:tensorflow:global_step/sec: 206.069\n",
      "INFO:tensorflow:loss = 35.524933, step = 3501 (0.484 sec)\n",
      "INFO:tensorflow:global_step/sec: 239.43\n",
      "INFO:tensorflow:loss = 70.98784, step = 3601 (0.419 sec)\n",
      "INFO:tensorflow:global_step/sec: 232.422\n",
      "INFO:tensorflow:loss = 79.711815, step = 3701 (0.431 sec)\n",
      "INFO:tensorflow:global_step/sec: 218.624\n",
      "INFO:tensorflow:loss = 118.76982, step = 3801 (0.458 sec)\n",
      "INFO:tensorflow:global_step/sec: 249.413\n",
      "INFO:tensorflow:loss = 36.29002, step = 3901 (0.401 sec)\n",
      "INFO:tensorflow:global_step/sec: 226.247\n",
      "INFO:tensorflow:loss = 66.7269, step = 4001 (0.442 sec)\n",
      "INFO:tensorflow:global_step/sec: 221.507\n",
      "INFO:tensorflow:loss = 92.577614, step = 4101 (0.452 sec)\n",
      "INFO:tensorflow:global_step/sec: 234.045\n",
      "INFO:tensorflow:loss = 49.745914, step = 4201 (0.429 sec)\n",
      "INFO:tensorflow:global_step/sec: 217.421\n",
      "INFO:tensorflow:loss = 63.153915, step = 4301 (0.457 sec)\n",
      "INFO:tensorflow:global_step/sec: 203.113\n",
      "INFO:tensorflow:loss = 85.68188, step = 4401 (0.493 sec)\n",
      "INFO:tensorflow:global_step/sec: 218.244\n",
      "INFO:tensorflow:loss = 82.95727, step = 4501 (0.457 sec)\n",
      "INFO:tensorflow:global_step/sec: 243.464\n",
      "INFO:tensorflow:loss = 84.89502, step = 4601 (0.410 sec)\n",
      "INFO:tensorflow:global_step/sec: 217.419\n",
      "INFO:tensorflow:loss = 50.03702, step = 4701 (0.461 sec)\n",
      "INFO:tensorflow:global_step/sec: 246.644\n",
      "INFO:tensorflow:loss = 51.725636, step = 4801 (0.406 sec)\n",
      "INFO:tensorflow:global_step/sec: 212.12\n",
      "INFO:tensorflow:loss = 36.40155, step = 4901 (0.473 sec)\n",
      "INFO:tensorflow:global_step/sec: 227.759\n",
      "INFO:tensorflow:loss = 33.22444, step = 5001 (0.438 sec)\n",
      "INFO:tensorflow:global_step/sec: 253.235\n",
      "INFO:tensorflow:loss = 52.839733, step = 5101 (0.394 sec)\n",
      "INFO:tensorflow:global_step/sec: 215.349\n",
      "INFO:tensorflow:loss = 380.82684, step = 5201 (0.463 sec)\n",
      "INFO:tensorflow:global_step/sec: 241.45\n",
      "INFO:tensorflow:loss = 82.80911, step = 5301 (0.414 sec)\n",
      "INFO:tensorflow:global_step/sec: 212.926\n",
      "INFO:tensorflow:loss = 62.01034, step = 5401 (0.472 sec)\n",
      "INFO:tensorflow:global_step/sec: 210.278\n",
      "INFO:tensorflow:loss = 45.374237, step = 5501 (0.474 sec)\n",
      "INFO:tensorflow:global_step/sec: 180.941\n",
      "INFO:tensorflow:loss = 104.63101, step = 5601 (0.558 sec)\n",
      "INFO:tensorflow:global_step/sec: 202.543\n",
      "INFO:tensorflow:loss = 26.702505, step = 5701 (0.488 sec)\n",
      "INFO:tensorflow:global_step/sec: 215.383\n",
      "INFO:tensorflow:loss = 29.168095, step = 5801 (0.464 sec)\n",
      "INFO:tensorflow:global_step/sec: 238.021\n",
      "INFO:tensorflow:loss = 41.67818, step = 5901 (0.420 sec)\n",
      "INFO:tensorflow:global_step/sec: 201.032\n",
      "INFO:tensorflow:loss = 52.437004, step = 6001 (0.498 sec)\n",
      "INFO:tensorflow:global_step/sec: 210.495\n",
      "INFO:tensorflow:loss = 78.30168, step = 6101 (0.474 sec)\n",
      "INFO:tensorflow:global_step/sec: 223.449\n",
      "INFO:tensorflow:loss = 37.62257, step = 6201 (0.451 sec)\n",
      "INFO:tensorflow:global_step/sec: 172.785\n",
      "INFO:tensorflow:loss = 35.091156, step = 6301 (0.577 sec)\n",
      "INFO:tensorflow:global_step/sec: 142.629\n",
      "INFO:tensorflow:loss = 38.035225, step = 6401 (0.702 sec)\n",
      "INFO:tensorflow:global_step/sec: 149.762\n",
      "INFO:tensorflow:loss = 70.354645, step = 6501 (0.669 sec)\n",
      "INFO:tensorflow:global_step/sec: 155.008\n",
      "INFO:tensorflow:loss = 36.227013, step = 6601 (0.642 sec)\n",
      "INFO:tensorflow:global_step/sec: 212.23\n",
      "INFO:tensorflow:loss = 29.737305, step = 6701 (0.471 sec)\n",
      "INFO:tensorflow:global_step/sec: 245.019\n",
      "INFO:tensorflow:loss = 82.2165, step = 6801 (0.410 sec)\n",
      "INFO:tensorflow:global_step/sec: 227.43\n",
      "INFO:tensorflow:loss = 26.039097, step = 6901 (0.439 sec)\n",
      "INFO:tensorflow:global_step/sec: 234.843\n",
      "INFO:tensorflow:loss = 33.67087, step = 7001 (0.427 sec)\n",
      "INFO:tensorflow:global_step/sec: 193.7\n",
      "INFO:tensorflow:loss = 27.202599, step = 7101 (0.515 sec)\n",
      "INFO:tensorflow:global_step/sec: 142.6\n",
      "INFO:tensorflow:loss = 61.405636, step = 7201 (0.703 sec)\n",
      "INFO:tensorflow:global_step/sec: 213.56\n",
      "INFO:tensorflow:loss = 153.57257, step = 7301 (0.467 sec)\n",
      "INFO:tensorflow:global_step/sec: 203.668\n",
      "INFO:tensorflow:loss = 60.56394, step = 7401 (0.492 sec)\n",
      "INFO:tensorflow:global_step/sec: 215.836\n",
      "INFO:tensorflow:loss = 35.93929, step = 7501 (0.462 sec)\n",
      "INFO:tensorflow:global_step/sec: 219.428\n",
      "INFO:tensorflow:loss = 37.754765, step = 7601 (0.457 sec)\n",
      "INFO:tensorflow:global_step/sec: 171.335\n",
      "INFO:tensorflow:loss = 36.716064, step = 7701 (0.584 sec)\n",
      "INFO:tensorflow:global_step/sec: 186.022\n",
      "INFO:tensorflow:loss = 39.10941, step = 7801 (0.537 sec)\n",
      "INFO:tensorflow:global_step/sec: 186.46\n",
      "INFO:tensorflow:loss = 223.90517, step = 7901 (0.537 sec)\n",
      "INFO:tensorflow:global_step/sec: 148.227\n"
     ]
    },
    {
     "name": "stdout",
     "output_type": "stream",
     "text": [
      "INFO:tensorflow:loss = 45.119534, step = 8001 (0.672 sec)\n",
      "INFO:tensorflow:global_step/sec: 204.022\n",
      "INFO:tensorflow:loss = 46.192196, step = 8101 (0.489 sec)\n",
      "INFO:tensorflow:global_step/sec: 223.044\n",
      "INFO:tensorflow:loss = 36.483337, step = 8201 (0.451 sec)\n",
      "INFO:tensorflow:global_step/sec: 226.658\n",
      "INFO:tensorflow:loss = 43.576965, step = 8301 (0.440 sec)\n",
      "INFO:tensorflow:global_step/sec: 219.481\n",
      "INFO:tensorflow:loss = 26.636354, step = 8401 (0.454 sec)\n",
      "INFO:tensorflow:global_step/sec: 157.45\n",
      "INFO:tensorflow:loss = 29.76714, step = 8501 (0.641 sec)\n",
      "INFO:tensorflow:global_step/sec: 224.243\n",
      "INFO:tensorflow:loss = 53.04419, step = 8601 (0.440 sec)\n",
      "INFO:tensorflow:global_step/sec: 224.646\n",
      "INFO:tensorflow:loss = 34.856026, step = 8701 (0.447 sec)\n",
      "INFO:tensorflow:global_step/sec: 213.997\n",
      "INFO:tensorflow:loss = 45.07127, step = 8801 (0.467 sec)\n",
      "INFO:tensorflow:global_step/sec: 167.247\n",
      "INFO:tensorflow:loss = 48.333916, step = 8901 (0.602 sec)\n",
      "INFO:tensorflow:global_step/sec: 223.857\n",
      "INFO:tensorflow:loss = 23.55567, step = 9001 (0.442 sec)\n",
      "INFO:tensorflow:global_step/sec: 154.325\n",
      "INFO:tensorflow:loss = 91.10349, step = 9101 (0.648 sec)\n",
      "INFO:tensorflow:global_step/sec: 198.315\n",
      "INFO:tensorflow:loss = 30.493233, step = 9201 (0.507 sec)\n",
      "INFO:tensorflow:global_step/sec: 221.213\n",
      "INFO:tensorflow:loss = 28.047792, step = 9301 (0.450 sec)\n",
      "INFO:tensorflow:global_step/sec: 227.798\n",
      "INFO:tensorflow:loss = 95.77014, step = 9401 (0.441 sec)\n",
      "INFO:tensorflow:global_step/sec: 220.027\n",
      "INFO:tensorflow:loss = 31.969933, step = 9501 (0.451 sec)\n",
      "INFO:tensorflow:global_step/sec: 246.689\n",
      "INFO:tensorflow:loss = 35.50831, step = 9601 (0.407 sec)\n",
      "INFO:tensorflow:global_step/sec: 182.033\n",
      "INFO:tensorflow:loss = 37.353268, step = 9701 (0.551 sec)\n",
      "INFO:tensorflow:global_step/sec: 192.888\n",
      "INFO:tensorflow:loss = 50.11487, step = 9801 (0.516 sec)\n",
      "INFO:tensorflow:global_step/sec: 245.631\n",
      "INFO:tensorflow:loss = 33.680805, step = 9901 (0.405 sec)\n",
      "INFO:tensorflow:global_step/sec: 227.26\n",
      "INFO:tensorflow:loss = 43.082916, step = 10001 (0.442 sec)\n",
      "INFO:tensorflow:global_step/sec: 217.062\n",
      "INFO:tensorflow:loss = 35.209732, step = 10101 (0.461 sec)\n",
      "INFO:tensorflow:global_step/sec: 222.798\n",
      "INFO:tensorflow:loss = 19.625725, step = 10201 (0.450 sec)\n",
      "INFO:tensorflow:global_step/sec: 203.999\n",
      "INFO:tensorflow:loss = 76.16651, step = 10301 (0.491 sec)\n",
      "INFO:tensorflow:global_step/sec: 239.739\n",
      "INFO:tensorflow:loss = 26.460384, step = 10401 (0.415 sec)\n",
      "INFO:tensorflow:global_step/sec: 277.093\n",
      "INFO:tensorflow:loss = 77.78639, step = 10501 (0.360 sec)\n",
      "INFO:tensorflow:global_step/sec: 281.363\n",
      "INFO:tensorflow:loss = 71.22525, step = 10601 (0.358 sec)\n",
      "INFO:tensorflow:global_step/sec: 270.431\n",
      "INFO:tensorflow:loss = 34.07783, step = 10701 (0.369 sec)\n",
      "INFO:tensorflow:global_step/sec: 277.882\n",
      "INFO:tensorflow:loss = 31.81817, step = 10801 (0.360 sec)\n",
      "INFO:tensorflow:global_step/sec: 283.365\n",
      "INFO:tensorflow:loss = 35.187187, step = 10901 (0.353 sec)\n",
      "INFO:tensorflow:global_step/sec: 285.042\n",
      "INFO:tensorflow:loss = 42.211422, step = 11001 (0.351 sec)\n",
      "INFO:tensorflow:global_step/sec: 268.434\n",
      "INFO:tensorflow:loss = 48.355186, step = 11101 (0.373 sec)\n",
      "INFO:tensorflow:global_step/sec: 259.108\n",
      "INFO:tensorflow:loss = 32.524643, step = 11201 (0.388 sec)\n",
      "INFO:tensorflow:global_step/sec: 264.278\n",
      "INFO:tensorflow:loss = 58.076283, step = 11301 (0.376 sec)\n",
      "INFO:tensorflow:global_step/sec: 275.315\n",
      "INFO:tensorflow:loss = 55.60778, step = 11401 (0.364 sec)\n",
      "INFO:tensorflow:global_step/sec: 284.633\n",
      "INFO:tensorflow:loss = 28.437492, step = 11501 (0.354 sec)\n",
      "INFO:tensorflow:global_step/sec: 286.664\n",
      "INFO:tensorflow:loss = 46.675068, step = 11601 (0.346 sec)\n",
      "INFO:tensorflow:global_step/sec: 286.749\n",
      "INFO:tensorflow:loss = 31.643007, step = 11701 (0.348 sec)\n",
      "INFO:tensorflow:global_step/sec: 277.832\n",
      "INFO:tensorflow:loss = 78.799675, step = 11801 (0.361 sec)\n",
      "INFO:tensorflow:global_step/sec: 269.363\n",
      "INFO:tensorflow:loss = 44.641712, step = 11901 (0.369 sec)\n",
      "INFO:tensorflow:global_step/sec: 279.516\n",
      "INFO:tensorflow:loss = 32.34329, step = 12001 (0.360 sec)\n",
      "INFO:tensorflow:global_step/sec: 282.965\n",
      "INFO:tensorflow:loss = 30.141068, step = 12101 (0.354 sec)\n",
      "INFO:tensorflow:global_step/sec: 247.467\n",
      "INFO:tensorflow:loss = 38.843178, step = 12201 (0.404 sec)\n",
      "INFO:tensorflow:global_step/sec: 160.945\n",
      "INFO:tensorflow:loss = 131.61751, step = 12301 (0.621 sec)\n",
      "INFO:tensorflow:global_step/sec: 247.725\n",
      "INFO:tensorflow:loss = 33.79935, step = 12401 (0.404 sec)\n",
      "INFO:tensorflow:global_step/sec: 214.172\n",
      "INFO:tensorflow:loss = 49.897697, step = 12501 (0.466 sec)\n",
      "INFO:tensorflow:global_step/sec: 221.443\n",
      "INFO:tensorflow:loss = 33.074776, step = 12601 (0.453 sec)\n",
      "INFO:tensorflow:global_step/sec: 239.721\n",
      "INFO:tensorflow:loss = 46.482132, step = 12701 (0.416 sec)\n",
      "INFO:tensorflow:global_step/sec: 236.988\n",
      "INFO:tensorflow:loss = 26.072971, step = 12801 (0.427 sec)\n",
      "INFO:tensorflow:global_step/sec: 226.389\n",
      "INFO:tensorflow:loss = 43.074802, step = 12901 (0.436 sec)\n",
      "INFO:tensorflow:global_step/sec: 236.839\n",
      "INFO:tensorflow:loss = 76.26276, step = 13001 (0.427 sec)\n",
      "INFO:tensorflow:global_step/sec: 227.138\n",
      "INFO:tensorflow:loss = 41.05782, step = 13101 (0.436 sec)\n",
      "INFO:tensorflow:global_step/sec: 238.162\n",
      "INFO:tensorflow:loss = 32.755116, step = 13201 (0.420 sec)\n",
      "INFO:tensorflow:global_step/sec: 245.878\n",
      "INFO:tensorflow:loss = 43.508163, step = 13301 (0.404 sec)\n",
      "INFO:tensorflow:global_step/sec: 223.521\n",
      "INFO:tensorflow:loss = 30.064077, step = 13401 (0.450 sec)\n",
      "INFO:tensorflow:global_step/sec: 241.569\n",
      "INFO:tensorflow:loss = 47.033813, step = 13501 (0.413 sec)\n",
      "INFO:tensorflow:global_step/sec: 222.823\n",
      "INFO:tensorflow:loss = 40.11534, step = 13601 (0.449 sec)\n",
      "INFO:tensorflow:global_step/sec: 287.631\n",
      "INFO:tensorflow:loss = 22.647526, step = 13701 (0.348 sec)\n",
      "INFO:tensorflow:global_step/sec: 300.845\n",
      "INFO:tensorflow:loss = 28.226456, step = 13801 (0.335 sec)\n",
      "INFO:tensorflow:global_step/sec: 267.974\n",
      "INFO:tensorflow:loss = 56.1601, step = 13901 (0.371 sec)\n",
      "INFO:tensorflow:global_step/sec: 236.843\n",
      "INFO:tensorflow:loss = 46.813297, step = 14001 (0.423 sec)\n",
      "INFO:tensorflow:global_step/sec: 260.486\n",
      "INFO:tensorflow:loss = 33.242508, step = 14101 (0.384 sec)\n",
      "INFO:tensorflow:global_step/sec: 265.659\n",
      "INFO:tensorflow:loss = 36.28313, step = 14201 (0.375 sec)\n",
      "INFO:tensorflow:global_step/sec: 205.566\n",
      "INFO:tensorflow:loss = 41.496494, step = 14301 (0.488 sec)\n",
      "INFO:tensorflow:global_step/sec: 198.944\n",
      "INFO:tensorflow:loss = 33.84687, step = 14401 (0.501 sec)\n",
      "INFO:tensorflow:global_step/sec: 251.998\n",
      "INFO:tensorflow:loss = 39.38068, step = 14501 (0.399 sec)\n",
      "INFO:tensorflow:global_step/sec: 272.717\n",
      "INFO:tensorflow:loss = 55.11888, step = 14601 (0.366 sec)\n",
      "INFO:tensorflow:global_step/sec: 272.836\n",
      "INFO:tensorflow:loss = 46.52362, step = 14701 (0.366 sec)\n",
      "INFO:tensorflow:global_step/sec: 282.133\n",
      "INFO:tensorflow:loss = 47.328876, step = 14801 (0.355 sec)\n",
      "INFO:tensorflow:global_step/sec: 219.015\n",
      "INFO:tensorflow:loss = 48.653004, step = 14901 (0.457 sec)\n",
      "INFO:tensorflow:global_step/sec: 258.456\n",
      "INFO:tensorflow:loss = 33.930172, step = 15001 (0.386 sec)\n",
      "INFO:tensorflow:global_step/sec: 235.855\n",
      "INFO:tensorflow:loss = 51.941586, step = 15101 (0.427 sec)\n",
      "INFO:tensorflow:global_step/sec: 227.577\n",
      "INFO:tensorflow:loss = 35.517185, step = 15201 (0.437 sec)\n",
      "INFO:tensorflow:global_step/sec: 216.34\n",
      "INFO:tensorflow:loss = 36.79278, step = 15301 (0.462 sec)\n",
      "INFO:tensorflow:global_step/sec: 262.767\n",
      "INFO:tensorflow:loss = 25.805443, step = 15401 (0.380 sec)\n",
      "INFO:tensorflow:global_step/sec: 266.721\n",
      "INFO:tensorflow:loss = 39.085167, step = 15501 (0.376 sec)\n",
      "INFO:tensorflow:global_step/sec: 219.728\n",
      "INFO:tensorflow:loss = 46.821335, step = 15601 (0.453 sec)\n",
      "INFO:tensorflow:global_step/sec: 276.542\n",
      "INFO:tensorflow:loss = 35.022892, step = 15701 (0.364 sec)\n",
      "INFO:tensorflow:global_step/sec: 231.947\n",
      "INFO:tensorflow:loss = 25.054197, step = 15801 (0.432 sec)\n",
      "INFO:tensorflow:global_step/sec: 262.354\n",
      "INFO:tensorflow:loss = 31.922712, step = 15901 (0.381 sec)\n",
      "INFO:tensorflow:global_step/sec: 269.252\n",
      "INFO:tensorflow:loss = 56.630764, step = 16001 (0.369 sec)\n",
      "INFO:tensorflow:global_step/sec: 190.929\n",
      "INFO:tensorflow:loss = 24.954283, step = 16101 (0.526 sec)\n",
      "INFO:tensorflow:global_step/sec: 219.01\n",
      "INFO:tensorflow:loss = 32.904984, step = 16201 (0.454 sec)\n"
     ]
    },
    {
     "name": "stdout",
     "output_type": "stream",
     "text": [
      "INFO:tensorflow:global_step/sec: 233.71\n",
      "INFO:tensorflow:loss = 39.50627, step = 16301 (0.429 sec)\n",
      "INFO:tensorflow:global_step/sec: 261.236\n",
      "INFO:tensorflow:loss = 36.873707, step = 16401 (0.385 sec)\n",
      "INFO:tensorflow:global_step/sec: 267.182\n",
      "INFO:tensorflow:loss = 31.310926, step = 16501 (0.373 sec)\n",
      "INFO:tensorflow:global_step/sec: 261.358\n",
      "INFO:tensorflow:loss = 31.16113, step = 16601 (0.383 sec)\n",
      "INFO:tensorflow:global_step/sec: 276.328\n",
      "INFO:tensorflow:loss = 32.347603, step = 16701 (0.360 sec)\n",
      "INFO:tensorflow:global_step/sec: 261.349\n",
      "INFO:tensorflow:loss = 28.221678, step = 16801 (0.383 sec)\n",
      "INFO:tensorflow:global_step/sec: 281.631\n",
      "INFO:tensorflow:loss = 29.823353, step = 16901 (0.356 sec)\n",
      "INFO:tensorflow:global_step/sec: 286.777\n",
      "INFO:tensorflow:loss = 82.89658, step = 17001 (0.347 sec)\n",
      "INFO:tensorflow:global_step/sec: 294.121\n",
      "INFO:tensorflow:loss = 36.42082, step = 17101 (0.344 sec)\n",
      "INFO:tensorflow:global_step/sec: 280.439\n",
      "INFO:tensorflow:loss = 25.200294, step = 17201 (0.351 sec)\n",
      "INFO:tensorflow:global_step/sec: 294.935\n",
      "INFO:tensorflow:loss = 50.262264, step = 17301 (0.342 sec)\n",
      "INFO:tensorflow:global_step/sec: 265.21\n",
      "INFO:tensorflow:loss = 46.508263, step = 17401 (0.377 sec)\n",
      "INFO:tensorflow:global_step/sec: 262.182\n",
      "INFO:tensorflow:loss = 34.757698, step = 17501 (0.383 sec)\n",
      "INFO:tensorflow:global_step/sec: 218.54\n",
      "INFO:tensorflow:loss = 41.133904, step = 17601 (0.460 sec)\n",
      "INFO:tensorflow:global_step/sec: 239.174\n",
      "INFO:tensorflow:loss = 38.909103, step = 17701 (0.415 sec)\n",
      "INFO:tensorflow:global_step/sec: 249.048\n",
      "INFO:tensorflow:loss = 32.69764, step = 17801 (0.399 sec)\n",
      "INFO:tensorflow:global_step/sec: 254.723\n",
      "INFO:tensorflow:loss = 52.40284, step = 17901 (0.395 sec)\n",
      "INFO:tensorflow:global_step/sec: 257.09\n",
      "INFO:tensorflow:loss = 43.523483, step = 18001 (0.387 sec)\n",
      "INFO:tensorflow:global_step/sec: 242.9\n",
      "INFO:tensorflow:loss = 32.42109, step = 18101 (0.413 sec)\n",
      "INFO:tensorflow:global_step/sec: 262.816\n",
      "INFO:tensorflow:loss = 37.135536, step = 18201 (0.381 sec)\n",
      "INFO:tensorflow:global_step/sec: 261.112\n",
      "INFO:tensorflow:loss = 28.865784, step = 18301 (0.382 sec)\n",
      "INFO:tensorflow:global_step/sec: 253.473\n",
      "INFO:tensorflow:loss = 35.495106, step = 18401 (0.395 sec)\n",
      "INFO:tensorflow:global_step/sec: 245.885\n",
      "INFO:tensorflow:loss = 46.316322, step = 18501 (0.409 sec)\n",
      "INFO:tensorflow:global_step/sec: 256.071\n",
      "INFO:tensorflow:loss = 39.220993, step = 18601 (0.390 sec)\n",
      "INFO:tensorflow:global_step/sec: 267.036\n",
      "INFO:tensorflow:loss = 50.77755, step = 18701 (0.374 sec)\n",
      "INFO:tensorflow:global_step/sec: 290.126\n",
      "INFO:tensorflow:loss = 35.619404, step = 18801 (0.345 sec)\n",
      "INFO:tensorflow:global_step/sec: 272.661\n",
      "INFO:tensorflow:loss = 41.094463, step = 18901 (0.367 sec)\n",
      "INFO:tensorflow:global_step/sec: 286.587\n",
      "INFO:tensorflow:loss = 38.694824, step = 19001 (0.349 sec)\n",
      "INFO:tensorflow:global_step/sec: 218.38\n",
      "INFO:tensorflow:loss = 38.003845, step = 19101 (0.458 sec)\n",
      "INFO:tensorflow:global_step/sec: 267.318\n",
      "INFO:tensorflow:loss = 41.898075, step = 19201 (0.375 sec)\n",
      "INFO:tensorflow:global_step/sec: 275.639\n",
      "INFO:tensorflow:loss = 35.51113, step = 19301 (0.362 sec)\n",
      "INFO:tensorflow:global_step/sec: 262.629\n",
      "INFO:tensorflow:loss = 39.31535, step = 19401 (0.380 sec)\n",
      "INFO:tensorflow:global_step/sec: 288.816\n",
      "INFO:tensorflow:loss = 191.55963, step = 19501 (0.348 sec)\n",
      "INFO:tensorflow:global_step/sec: 276.603\n",
      "INFO:tensorflow:loss = 27.539675, step = 19601 (0.362 sec)\n",
      "INFO:tensorflow:global_step/sec: 232.394\n",
      "INFO:tensorflow:loss = 51.565933, step = 19701 (0.429 sec)\n",
      "INFO:tensorflow:global_step/sec: 200.272\n",
      "INFO:tensorflow:loss = 28.12364, step = 19801 (0.502 sec)\n",
      "INFO:tensorflow:global_step/sec: 232.314\n",
      "INFO:tensorflow:loss = 29.783182, step = 19901 (0.434 sec)\n",
      "INFO:tensorflow:Saving checkpoints for 20000 into /var/folders/v1/l6r3kv8s1dxc11vbv286xr1h0000gn/T/tmp_y6fblsg/model.ckpt.\n",
      "INFO:tensorflow:Loss for final step: 78.22705.\n"
     ]
    },
    {
     "data": {
      "text/plain": [
       "<tensorflow_estimator.python.estimator.canned.linear.LinearClassifier at 0x1a2df965f8>"
      ]
     },
     "execution_count": 129,
     "metadata": {},
     "output_type": "execute_result"
    }
   ],
   "source": [
    "model.train(input_fn=input_func,steps=20000)"
   ]
  },
  {
   "cell_type": "code",
   "execution_count": 185,
   "metadata": {},
   "outputs": [],
   "source": [
    "eval_input_func=tf.estimator.inputs.pandas_input_fn(x=X_test,batch_size=10,num_epochs=1,shuffle=False)"
   ]
  },
  {
   "cell_type": "code",
   "execution_count": 186,
   "metadata": {},
   "outputs": [
    {
     "name": "stdout",
     "output_type": "stream",
     "text": [
      "INFO:tensorflow:Calling model_fn.\n",
      "INFO:tensorflow:Done calling model_fn.\n",
      "INFO:tensorflow:Graph was finalized.\n",
      "INFO:tensorflow:Restoring parameters from /var/folders/v1/l6r3kv8s1dxc11vbv286xr1h0000gn/T/tmp_y6fblsg/model.ckpt-20000\n",
      "INFO:tensorflow:Running local_init_op.\n",
      "INFO:tensorflow:Done running local_init_op.\n"
     ]
    }
   ],
   "source": [
    "prediction=model.predict(input_fn=eval_input_func)\n",
    "\n",
    "my_pred=list(prediction)"
   ]
  },
  {
   "cell_type": "code",
   "execution_count": 187,
   "metadata": {},
   "outputs": [],
   "source": [
    "pred_y=[]\n",
    "for pred in my_pred:\n",
    "    pred_y.append(pred[\"class_ids\"][0])\n",
    "    "
   ]
  },
  {
   "cell_type": "code",
   "execution_count": 188,
   "metadata": {},
   "outputs": [
    {
     "data": {
      "text/plain": [
       "9769"
      ]
     },
     "execution_count": 188,
     "metadata": {},
     "output_type": "execute_result"
    }
   ],
   "source": [
    "len(pred_y)"
   ]
  },
  {
   "cell_type": "code",
   "execution_count": 189,
   "metadata": {},
   "outputs": [],
   "source": [
    "from sklearn.metrics import  classification_report"
   ]
  },
  {
   "cell_type": "code",
   "execution_count": 190,
   "metadata": {},
   "outputs": [
    {
     "name": "stdout",
     "output_type": "stream",
     "text": [
      "              precision    recall  f1-score   support\n",
      "\n",
      "           0       0.85      0.92      0.89      7401\n",
      "           1       0.68      0.51      0.58      2368\n",
      "\n",
      "   micro avg       0.82      0.82      0.82      9769\n",
      "   macro avg       0.77      0.72      0.74      9769\n",
      "weighted avg       0.81      0.82      0.81      9769\n",
      "\n"
     ]
    }
   ],
   "source": [
    "print(classification_report(y_test,pred_y))"
   ]
  },
  {
   "cell_type": "markdown",
   "metadata": {},
   "source": [
    "# DNN Estimator"
   ]
  },
  {
   "cell_type": "code",
   "execution_count": 174,
   "metadata": {},
   "outputs": [],
   "source": [
    "input_function=tf.estimator.inputs.pandas_input_fn(X_train,y_train,batch_size=100,num_epochs=1000,shuffle=True)"
   ]
  },
  {
   "cell_type": "code",
   "execution_count": 175,
   "metadata": {},
   "outputs": [
    {
     "name": "stdout",
     "output_type": "stream",
     "text": [
      "INFO:tensorflow:Using default config.\n",
      "WARNING:tensorflow:Using temporary folder as model directory: /var/folders/v1/l6r3kv8s1dxc11vbv286xr1h0000gn/T/tmpo23on2zk\n",
      "INFO:tensorflow:Using config: {'_model_dir': '/var/folders/v1/l6r3kv8s1dxc11vbv286xr1h0000gn/T/tmpo23on2zk', '_tf_random_seed': None, '_save_summary_steps': 100, '_save_checkpoints_steps': None, '_save_checkpoints_secs': 600, '_session_config': allow_soft_placement: true\n",
      "graph_options {\n",
      "  rewrite_options {\n",
      "    meta_optimizer_iterations: ONE\n",
      "  }\n",
      "}\n",
      ", '_keep_checkpoint_max': 5, '_keep_checkpoint_every_n_hours': 10000, '_log_step_count_steps': 100, '_train_distribute': None, '_device_fn': None, '_protocol': None, '_eval_distribute': None, '_experimental_distribute': None, '_service': None, '_cluster_spec': <tensorflow.python.training.server_lib.ClusterSpec object at 0x1a2d7c3860>, '_task_type': 'worker', '_task_id': 0, '_global_id_in_cluster': 0, '_master': '', '_evaluation_master': '', '_is_chief': True, '_num_ps_replicas': 0, '_num_worker_replicas': 1}\n"
     ]
    }
   ],
   "source": [
    "model_dnn= tf.estimator.DNNClassifier(hidden_units=[13,13,13],feature_columns=feat_col,n_classes=2)"
   ]
  },
  {
   "cell_type": "code",
   "execution_count": 177,
   "metadata": {
    "scrolled": true
   },
   "outputs": [
    {
     "name": "stdout",
     "output_type": "stream",
     "text": [
      "INFO:tensorflow:Calling model_fn.\n",
      "INFO:tensorflow:Done calling model_fn.\n",
      "INFO:tensorflow:Create CheckpointSaverHook.\n",
      "INFO:tensorflow:Graph was finalized.\n",
      "INFO:tensorflow:Restoring parameters from /var/folders/v1/l6r3kv8s1dxc11vbv286xr1h0000gn/T/tmpo23on2zk/model.ckpt-100\n",
      "INFO:tensorflow:Running local_init_op.\n",
      "INFO:tensorflow:Done running local_init_op.\n",
      "INFO:tensorflow:Saving checkpoints for 100 into /var/folders/v1/l6r3kv8s1dxc11vbv286xr1h0000gn/T/tmpo23on2zk/model.ckpt.\n",
      "INFO:tensorflow:loss = 58.53389, step = 101\n",
      "INFO:tensorflow:global_step/sec: 99.215\n",
      "INFO:tensorflow:loss = 29.467724, step = 201 (1.010 sec)\n",
      "INFO:tensorflow:global_step/sec: 220.344\n",
      "INFO:tensorflow:loss = 37.98155, step = 301 (0.455 sec)\n",
      "INFO:tensorflow:global_step/sec: 149.471\n",
      "INFO:tensorflow:loss = 51.092964, step = 401 (0.667 sec)\n",
      "INFO:tensorflow:global_step/sec: 232.149\n",
      "INFO:tensorflow:loss = 30.449495, step = 501 (0.434 sec)\n",
      "INFO:tensorflow:global_step/sec: 203.936\n",
      "INFO:tensorflow:loss = 31.599936, step = 601 (0.489 sec)\n",
      "INFO:tensorflow:global_step/sec: 213.713\n",
      "INFO:tensorflow:loss = 35.579475, step = 701 (0.467 sec)\n",
      "INFO:tensorflow:global_step/sec: 227.36\n",
      "INFO:tensorflow:loss = 40.668774, step = 801 (0.440 sec)\n",
      "INFO:tensorflow:global_step/sec: 186.694\n",
      "INFO:tensorflow:loss = 44.684288, step = 901 (0.538 sec)\n",
      "INFO:tensorflow:global_step/sec: 193.937\n",
      "INFO:tensorflow:loss = 51.020084, step = 1001 (0.511 sec)\n",
      "INFO:tensorflow:global_step/sec: 204.319\n",
      "INFO:tensorflow:loss = 29.23132, step = 1101 (0.492 sec)\n",
      "INFO:tensorflow:global_step/sec: 193.47\n",
      "INFO:tensorflow:loss = 38.31493, step = 1201 (0.517 sec)\n",
      "INFO:tensorflow:global_step/sec: 200.766\n",
      "INFO:tensorflow:loss = 41.575394, step = 1301 (0.497 sec)\n",
      "INFO:tensorflow:global_step/sec: 222.464\n",
      "INFO:tensorflow:loss = 30.295326, step = 1401 (0.448 sec)\n",
      "INFO:tensorflow:global_step/sec: 198.169\n",
      "INFO:tensorflow:loss = 34.03549, step = 1501 (0.504 sec)\n",
      "INFO:tensorflow:global_step/sec: 198.032\n",
      "INFO:tensorflow:loss = 31.69484, step = 1601 (0.507 sec)\n",
      "INFO:tensorflow:global_step/sec: 221.606\n",
      "INFO:tensorflow:loss = 29.175446, step = 1701 (0.451 sec)\n",
      "INFO:tensorflow:global_step/sec: 213.272\n",
      "INFO:tensorflow:loss = 33.878273, step = 1801 (0.467 sec)\n",
      "INFO:tensorflow:global_step/sec: 197.094\n",
      "INFO:tensorflow:loss = 40.260796, step = 1901 (0.509 sec)\n",
      "INFO:tensorflow:global_step/sec: 220.765\n",
      "INFO:tensorflow:loss = 30.773418, step = 2001 (0.454 sec)\n",
      "INFO:tensorflow:global_step/sec: 202.514\n",
      "INFO:tensorflow:loss = 32.4781, step = 2101 (0.493 sec)\n",
      "INFO:tensorflow:global_step/sec: 179.658\n",
      "INFO:tensorflow:loss = 27.34031, step = 2201 (0.555 sec)\n",
      "INFO:tensorflow:global_step/sec: 212.718\n",
      "INFO:tensorflow:loss = 23.0577, step = 2301 (0.469 sec)\n",
      "INFO:tensorflow:global_step/sec: 173.556\n",
      "INFO:tensorflow:loss = 34.978966, step = 2401 (0.579 sec)\n",
      "INFO:tensorflow:global_step/sec: 168.124\n",
      "INFO:tensorflow:loss = 37.396244, step = 2501 (0.595 sec)\n",
      "INFO:tensorflow:global_step/sec: 185.884\n",
      "INFO:tensorflow:loss = 26.818333, step = 2601 (0.535 sec)\n",
      "INFO:tensorflow:global_step/sec: 220.134\n",
      "INFO:tensorflow:loss = 26.45866, step = 2701 (0.455 sec)\n",
      "INFO:tensorflow:global_step/sec: 231.978\n",
      "INFO:tensorflow:loss = 36.79694, step = 2801 (0.432 sec)\n",
      "INFO:tensorflow:global_step/sec: 213.755\n",
      "INFO:tensorflow:loss = 27.065638, step = 2901 (0.466 sec)\n",
      "INFO:tensorflow:global_step/sec: 192.316\n",
      "INFO:tensorflow:loss = 28.738659, step = 3001 (0.522 sec)\n",
      "INFO:tensorflow:global_step/sec: 250.506\n",
      "INFO:tensorflow:loss = 35.335636, step = 3101 (0.398 sec)\n",
      "INFO:tensorflow:global_step/sec: 195.179\n",
      "INFO:tensorflow:loss = 26.124252, step = 3201 (0.515 sec)\n",
      "INFO:tensorflow:global_step/sec: 196.399\n",
      "INFO:tensorflow:loss = 32.376926, step = 3301 (0.506 sec)\n",
      "INFO:tensorflow:global_step/sec: 231.817\n",
      "INFO:tensorflow:loss = 29.07425, step = 3401 (0.432 sec)\n",
      "INFO:tensorflow:global_step/sec: 206.024\n",
      "INFO:tensorflow:loss = 40.102333, step = 3501 (0.485 sec)\n",
      "INFO:tensorflow:global_step/sec: 242.208\n",
      "INFO:tensorflow:loss = 31.163961, step = 3601 (0.418 sec)\n",
      "INFO:tensorflow:global_step/sec: 191.51\n",
      "INFO:tensorflow:loss = 31.818422, step = 3701 (0.517 sec)\n",
      "INFO:tensorflow:global_step/sec: 219.386\n",
      "INFO:tensorflow:loss = 26.552185, step = 3801 (0.455 sec)\n",
      "INFO:tensorflow:global_step/sec: 224.399\n",
      "INFO:tensorflow:loss = 35.492466, step = 3901 (0.446 sec)\n",
      "INFO:tensorflow:global_step/sec: 205.907\n",
      "INFO:tensorflow:loss = 32.823307, step = 4001 (0.487 sec)\n",
      "INFO:tensorflow:global_step/sec: 211.441\n",
      "INFO:tensorflow:loss = 34.075222, step = 4101 (0.471 sec)\n",
      "INFO:tensorflow:global_step/sec: 231.052\n",
      "INFO:tensorflow:loss = 31.890999, step = 4201 (0.433 sec)\n",
      "INFO:tensorflow:global_step/sec: 247.507\n",
      "INFO:tensorflow:loss = 28.284935, step = 4301 (0.403 sec)\n",
      "INFO:tensorflow:global_step/sec: 220.731\n",
      "INFO:tensorflow:loss = 40.972775, step = 4401 (0.456 sec)\n",
      "INFO:tensorflow:global_step/sec: 204.979\n",
      "INFO:tensorflow:loss = 27.327354, step = 4501 (0.487 sec)\n",
      "INFO:tensorflow:global_step/sec: 195.64\n",
      "INFO:tensorflow:loss = 23.094448, step = 4601 (0.510 sec)\n",
      "INFO:tensorflow:global_step/sec: 238.374\n",
      "INFO:tensorflow:loss = 27.930307, step = 4701 (0.421 sec)\n",
      "INFO:tensorflow:global_step/sec: 199.543\n",
      "INFO:tensorflow:loss = 24.857723, step = 4801 (0.499 sec)\n",
      "INFO:tensorflow:global_step/sec: 229.206\n",
      "INFO:tensorflow:loss = 25.737503, step = 4901 (0.440 sec)\n",
      "INFO:tensorflow:global_step/sec: 219.29\n",
      "INFO:tensorflow:loss = 28.113905, step = 5001 (0.456 sec)\n",
      "INFO:tensorflow:global_step/sec: 232.296\n",
      "INFO:tensorflow:loss = 29.755058, step = 5101 (0.428 sec)\n",
      "INFO:tensorflow:global_step/sec: 233.833\n",
      "INFO:tensorflow:loss = 28.602743, step = 5201 (0.429 sec)\n",
      "INFO:tensorflow:global_step/sec: 262.862\n",
      "INFO:tensorflow:loss = 27.852812, step = 5301 (0.380 sec)\n",
      "INFO:tensorflow:global_step/sec: 231.596\n",
      "INFO:tensorflow:loss = 33.532524, step = 5401 (0.433 sec)\n",
      "INFO:tensorflow:global_step/sec: 252.763\n",
      "INFO:tensorflow:loss = 24.578917, step = 5501 (0.393 sec)\n",
      "INFO:tensorflow:global_step/sec: 200.349\n",
      "INFO:tensorflow:loss = 32.882027, step = 5601 (0.499 sec)\n",
      "INFO:tensorflow:global_step/sec: 234.794\n",
      "INFO:tensorflow:loss = 36.324966, step = 5701 (0.426 sec)\n",
      "INFO:tensorflow:global_step/sec: 220.188\n",
      "INFO:tensorflow:loss = 35.55452, step = 5801 (0.454 sec)\n",
      "INFO:tensorflow:global_step/sec: 215.462\n",
      "INFO:tensorflow:loss = 34.1355, step = 5901 (0.464 sec)\n",
      "INFO:tensorflow:global_step/sec: 212.88\n",
      "INFO:tensorflow:loss = 23.584005, step = 6001 (0.470 sec)\n",
      "INFO:tensorflow:global_step/sec: 194.702\n",
      "INFO:tensorflow:loss = 27.63405, step = 6101 (0.514 sec)\n",
      "INFO:tensorflow:global_step/sec: 202.753\n",
      "INFO:tensorflow:loss = 36.211693, step = 6201 (0.494 sec)\n",
      "INFO:tensorflow:global_step/sec: 226.096\n",
      "INFO:tensorflow:loss = 26.823576, step = 6301 (0.441 sec)\n",
      "INFO:tensorflow:global_step/sec: 197.947\n",
      "INFO:tensorflow:loss = 26.009197, step = 6401 (0.505 sec)\n",
      "INFO:tensorflow:global_step/sec: 244.955\n",
      "INFO:tensorflow:loss = 37.673065, step = 6501 (0.408 sec)\n",
      "INFO:tensorflow:global_step/sec: 211.402\n",
      "INFO:tensorflow:loss = 25.166029, step = 6601 (0.473 sec)\n",
      "INFO:tensorflow:global_step/sec: 191.25\n",
      "INFO:tensorflow:loss = 32.372684, step = 6701 (0.524 sec)\n",
      "INFO:tensorflow:global_step/sec: 209.757\n",
      "INFO:tensorflow:loss = 32.1197, step = 6801 (0.477 sec)\n",
      "INFO:tensorflow:global_step/sec: 227.277\n",
      "INFO:tensorflow:loss = 31.714334, step = 6901 (0.441 sec)\n",
      "INFO:tensorflow:global_step/sec: 239.78\n",
      "INFO:tensorflow:loss = 27.409641, step = 7001 (0.415 sec)\n",
      "INFO:tensorflow:global_step/sec: 208.131\n",
      "INFO:tensorflow:loss = 25.767538, step = 7101 (0.480 sec)\n",
      "INFO:tensorflow:global_step/sec: 234.402\n",
      "INFO:tensorflow:loss = 29.061777, step = 7201 (0.428 sec)\n",
      "INFO:tensorflow:global_step/sec: 251.101\n",
      "INFO:tensorflow:loss = 26.393867, step = 7301 (0.399 sec)\n",
      "INFO:tensorflow:global_step/sec: 251.593\n",
      "INFO:tensorflow:loss = 46.09901, step = 7401 (0.397 sec)\n",
      "INFO:tensorflow:global_step/sec: 219.275\n",
      "INFO:tensorflow:loss = 27.17667, step = 7501 (0.456 sec)\n",
      "INFO:tensorflow:global_step/sec: 242.99\n",
      "INFO:tensorflow:loss = 30.181122, step = 7601 (0.411 sec)\n",
      "INFO:tensorflow:global_step/sec: 213.561\n",
      "INFO:tensorflow:loss = 25.794884, step = 7701 (0.466 sec)\n",
      "INFO:tensorflow:global_step/sec: 222.78\n",
      "INFO:tensorflow:loss = 32.738644, step = 7801 (0.449 sec)\n",
      "INFO:tensorflow:global_step/sec: 191.67\n",
      "INFO:tensorflow:loss = 21.063562, step = 7901 (0.521 sec)\n"
     ]
    },
    {
     "name": "stdout",
     "output_type": "stream",
     "text": [
      "INFO:tensorflow:global_step/sec: 207.679\n",
      "INFO:tensorflow:loss = 27.333847, step = 8001 (0.483 sec)\n",
      "INFO:tensorflow:global_step/sec: 241.906\n",
      "INFO:tensorflow:loss = 28.260517, step = 8101 (0.412 sec)\n",
      "INFO:tensorflow:global_step/sec: 226.483\n",
      "INFO:tensorflow:loss = 32.502953, step = 8201 (0.442 sec)\n",
      "INFO:tensorflow:global_step/sec: 235.21\n",
      "INFO:tensorflow:loss = 32.106613, step = 8301 (0.424 sec)\n",
      "INFO:tensorflow:global_step/sec: 235.758\n",
      "INFO:tensorflow:loss = 29.695408, step = 8401 (0.426 sec)\n",
      "INFO:tensorflow:global_step/sec: 240.639\n",
      "INFO:tensorflow:loss = 35.809696, step = 8501 (0.414 sec)\n",
      "INFO:tensorflow:global_step/sec: 210.446\n",
      "INFO:tensorflow:loss = 42.779446, step = 8601 (0.477 sec)\n",
      "INFO:tensorflow:global_step/sec: 221.173\n",
      "INFO:tensorflow:loss = 36.306164, step = 8701 (0.450 sec)\n",
      "INFO:tensorflow:global_step/sec: 200.714\n",
      "INFO:tensorflow:loss = 30.229557, step = 8801 (0.498 sec)\n",
      "INFO:tensorflow:global_step/sec: 227.608\n",
      "INFO:tensorflow:loss = 36.225445, step = 8901 (0.439 sec)\n",
      "INFO:tensorflow:global_step/sec: 245.595\n",
      "INFO:tensorflow:loss = 31.059128, step = 9001 (0.410 sec)\n",
      "INFO:tensorflow:global_step/sec: 214.096\n",
      "INFO:tensorflow:loss = 32.192093, step = 9101 (0.465 sec)\n",
      "INFO:tensorflow:global_step/sec: 193.302\n",
      "INFO:tensorflow:loss = 20.261318, step = 9201 (0.519 sec)\n",
      "INFO:tensorflow:global_step/sec: 209.883\n",
      "INFO:tensorflow:loss = 24.289474, step = 9301 (0.475 sec)\n",
      "INFO:tensorflow:global_step/sec: 197.901\n",
      "INFO:tensorflow:loss = 30.697546, step = 9401 (0.505 sec)\n",
      "INFO:tensorflow:global_step/sec: 211.254\n",
      "INFO:tensorflow:loss = 24.863762, step = 9501 (0.474 sec)\n",
      "INFO:tensorflow:global_step/sec: 246.102\n",
      "INFO:tensorflow:loss = 27.278278, step = 9601 (0.406 sec)\n",
      "INFO:tensorflow:global_step/sec: 259.247\n",
      "INFO:tensorflow:loss = 31.097954, step = 9701 (0.386 sec)\n",
      "INFO:tensorflow:global_step/sec: 227.703\n",
      "INFO:tensorflow:loss = 30.302114, step = 9801 (0.438 sec)\n",
      "INFO:tensorflow:global_step/sec: 197.211\n",
      "INFO:tensorflow:loss = 40.816658, step = 9901 (0.507 sec)\n",
      "INFO:tensorflow:global_step/sec: 219.541\n",
      "INFO:tensorflow:loss = 25.487757, step = 10001 (0.458 sec)\n",
      "INFO:tensorflow:global_step/sec: 252.149\n",
      "INFO:tensorflow:loss = 36.696445, step = 10101 (0.394 sec)\n",
      "INFO:tensorflow:global_step/sec: 226.061\n",
      "INFO:tensorflow:loss = 28.665298, step = 10201 (0.443 sec)\n",
      "INFO:tensorflow:global_step/sec: 195.028\n",
      "INFO:tensorflow:loss = 27.26939, step = 10301 (0.513 sec)\n",
      "INFO:tensorflow:global_step/sec: 220.51\n",
      "INFO:tensorflow:loss = 34.03703, step = 10401 (0.454 sec)\n",
      "INFO:tensorflow:global_step/sec: 214.718\n",
      "INFO:tensorflow:loss = 39.131275, step = 10501 (0.467 sec)\n",
      "INFO:tensorflow:global_step/sec: 250.483\n",
      "INFO:tensorflow:loss = 23.567463, step = 10601 (0.397 sec)\n",
      "INFO:tensorflow:global_step/sec: 215.028\n",
      "INFO:tensorflow:loss = 39.610535, step = 10701 (0.466 sec)\n",
      "INFO:tensorflow:global_step/sec: 226.585\n",
      "INFO:tensorflow:loss = 33.380993, step = 10801 (0.441 sec)\n",
      "INFO:tensorflow:global_step/sec: 228.042\n",
      "INFO:tensorflow:loss = 25.427685, step = 10901 (0.438 sec)\n",
      "INFO:tensorflow:global_step/sec: 231.494\n",
      "INFO:tensorflow:loss = 29.636934, step = 11001 (0.434 sec)\n",
      "INFO:tensorflow:global_step/sec: 201.902\n",
      "INFO:tensorflow:loss = 42.053967, step = 11101 (0.494 sec)\n",
      "INFO:tensorflow:global_step/sec: 236.085\n",
      "INFO:tensorflow:loss = 30.477173, step = 11201 (0.425 sec)\n",
      "INFO:tensorflow:global_step/sec: 199.077\n",
      "INFO:tensorflow:loss = 26.53238, step = 11301 (0.502 sec)\n",
      "INFO:tensorflow:global_step/sec: 233.266\n",
      "INFO:tensorflow:loss = 27.989792, step = 11401 (0.429 sec)\n",
      "INFO:tensorflow:global_step/sec: 193.348\n",
      "INFO:tensorflow:loss = 37.658127, step = 11501 (0.515 sec)\n",
      "INFO:tensorflow:global_step/sec: 195.08\n",
      "INFO:tensorflow:loss = 32.088097, step = 11601 (0.515 sec)\n",
      "INFO:tensorflow:global_step/sec: 186.502\n",
      "INFO:tensorflow:loss = 29.916151, step = 11701 (0.533 sec)\n",
      "INFO:tensorflow:global_step/sec: 201.998\n",
      "INFO:tensorflow:loss = 31.603449, step = 11801 (0.495 sec)\n",
      "INFO:tensorflow:global_step/sec: 224.431\n",
      "INFO:tensorflow:loss = 27.045689, step = 11901 (0.448 sec)\n",
      "INFO:tensorflow:global_step/sec: 244.693\n",
      "INFO:tensorflow:loss = 36.94781, step = 12001 (0.407 sec)\n",
      "INFO:tensorflow:global_step/sec: 209.334\n",
      "INFO:tensorflow:loss = 29.691292, step = 12101 (0.479 sec)\n",
      "INFO:tensorflow:global_step/sec: 213.105\n",
      "INFO:tensorflow:loss = 26.247263, step = 12201 (0.468 sec)\n",
      "INFO:tensorflow:global_step/sec: 260.417\n",
      "INFO:tensorflow:loss = 32.23294, step = 12301 (0.386 sec)\n",
      "INFO:tensorflow:global_step/sec: 254.312\n",
      "INFO:tensorflow:loss = 32.268635, step = 12401 (0.390 sec)\n",
      "INFO:tensorflow:global_step/sec: 234.528\n",
      "INFO:tensorflow:loss = 24.951231, step = 12501 (0.429 sec)\n",
      "INFO:tensorflow:global_step/sec: 226.734\n",
      "INFO:tensorflow:loss = 42.38998, step = 12601 (0.441 sec)\n",
      "INFO:tensorflow:global_step/sec: 225.726\n",
      "INFO:tensorflow:loss = 35.68101, step = 12701 (0.441 sec)\n",
      "INFO:tensorflow:global_step/sec: 206.032\n",
      "INFO:tensorflow:loss = 28.83243, step = 12801 (0.486 sec)\n",
      "INFO:tensorflow:global_step/sec: 245.982\n",
      "INFO:tensorflow:loss = 37.07885, step = 12901 (0.406 sec)\n",
      "INFO:tensorflow:global_step/sec: 201.591\n",
      "INFO:tensorflow:loss = 24.235834, step = 13001 (0.496 sec)\n",
      "INFO:tensorflow:global_step/sec: 221.923\n",
      "INFO:tensorflow:loss = 33.903828, step = 13101 (0.452 sec)\n",
      "INFO:tensorflow:global_step/sec: 216.983\n",
      "INFO:tensorflow:loss = 25.73706, step = 13201 (0.461 sec)\n",
      "INFO:tensorflow:global_step/sec: 229.907\n",
      "INFO:tensorflow:loss = 25.876076, step = 13301 (0.436 sec)\n",
      "INFO:tensorflow:global_step/sec: 221.54\n",
      "INFO:tensorflow:loss = 29.541122, step = 13401 (0.451 sec)\n",
      "INFO:tensorflow:global_step/sec: 206.941\n",
      "INFO:tensorflow:loss = 35.65216, step = 13501 (0.481 sec)\n",
      "INFO:tensorflow:global_step/sec: 224.079\n",
      "INFO:tensorflow:loss = 35.06251, step = 13601 (0.446 sec)\n",
      "INFO:tensorflow:global_step/sec: 200.917\n",
      "INFO:tensorflow:loss = 22.194174, step = 13701 (0.498 sec)\n",
      "INFO:tensorflow:global_step/sec: 223.149\n",
      "INFO:tensorflow:loss = 26.80831, step = 13801 (0.449 sec)\n",
      "INFO:tensorflow:global_step/sec: 229.226\n",
      "INFO:tensorflow:loss = 23.419851, step = 13901 (0.438 sec)\n",
      "INFO:tensorflow:global_step/sec: 192.31\n",
      "INFO:tensorflow:loss = 28.636026, step = 14001 (0.518 sec)\n",
      "INFO:tensorflow:global_step/sec: 238.927\n",
      "INFO:tensorflow:loss = 27.378586, step = 14101 (0.419 sec)\n",
      "INFO:tensorflow:global_step/sec: 206.841\n",
      "INFO:tensorflow:loss = 28.672262, step = 14201 (0.485 sec)\n",
      "INFO:tensorflow:global_step/sec: 240.881\n",
      "INFO:tensorflow:loss = 34.152237, step = 14301 (0.416 sec)\n",
      "INFO:tensorflow:global_step/sec: 210.785\n",
      "INFO:tensorflow:loss = 39.04339, step = 14401 (0.473 sec)\n",
      "INFO:tensorflow:global_step/sec: 214.945\n",
      "INFO:tensorflow:loss = 31.804708, step = 14501 (0.463 sec)\n",
      "INFO:tensorflow:global_step/sec: 220.527\n",
      "INFO:tensorflow:loss = 26.98039, step = 14601 (0.453 sec)\n",
      "INFO:tensorflow:global_step/sec: 222.597\n",
      "INFO:tensorflow:loss = 32.11248, step = 14701 (0.451 sec)\n",
      "INFO:tensorflow:global_step/sec: 217.909\n",
      "INFO:tensorflow:loss = 44.435764, step = 14801 (0.457 sec)\n",
      "INFO:tensorflow:global_step/sec: 237.079\n",
      "INFO:tensorflow:loss = 23.094536, step = 14901 (0.423 sec)\n",
      "INFO:tensorflow:global_step/sec: 223.359\n",
      "INFO:tensorflow:loss = 25.027222, step = 15001 (0.449 sec)\n",
      "INFO:tensorflow:global_step/sec: 178.522\n",
      "INFO:tensorflow:loss = 23.137526, step = 15101 (0.557 sec)\n",
      "INFO:tensorflow:global_step/sec: 266.429\n",
      "INFO:tensorflow:loss = 32.4254, step = 15201 (0.377 sec)\n",
      "INFO:tensorflow:global_step/sec: 208.263\n",
      "INFO:tensorflow:loss = 32.266075, step = 15301 (0.480 sec)\n",
      "INFO:tensorflow:global_step/sec: 246.258\n",
      "INFO:tensorflow:loss = 22.02915, step = 15401 (0.407 sec)\n",
      "INFO:tensorflow:global_step/sec: 203.612\n",
      "INFO:tensorflow:loss = 40.73657, step = 15501 (0.490 sec)\n",
      "INFO:tensorflow:global_step/sec: 233.115\n",
      "INFO:tensorflow:loss = 30.530823, step = 15601 (0.427 sec)\n",
      "INFO:tensorflow:global_step/sec: 224.517\n",
      "INFO:tensorflow:loss = 30.237505, step = 15701 (0.447 sec)\n",
      "INFO:tensorflow:global_step/sec: 221.664\n",
      "INFO:tensorflow:loss = 31.059902, step = 15801 (0.452 sec)\n",
      "INFO:tensorflow:global_step/sec: 251.286\n",
      "INFO:tensorflow:loss = 31.55918, step = 15901 (0.398 sec)\n",
      "INFO:tensorflow:global_step/sec: 193.267\n",
      "INFO:tensorflow:loss = 32.34156, step = 16001 (0.516 sec)\n",
      "INFO:tensorflow:global_step/sec: 217.72\n",
      "INFO:tensorflow:loss = 35.76465, step = 16101 (0.460 sec)\n",
      "INFO:tensorflow:global_step/sec: 233.835\n",
      "INFO:tensorflow:loss = 33.59245, step = 16201 (0.427 sec)\n"
     ]
    },
    {
     "name": "stdout",
     "output_type": "stream",
     "text": [
      "INFO:tensorflow:global_step/sec: 236.213\n",
      "INFO:tensorflow:loss = 34.14196, step = 16301 (0.425 sec)\n",
      "INFO:tensorflow:global_step/sec: 189.995\n",
      "INFO:tensorflow:loss = 27.343344, step = 16401 (0.528 sec)\n",
      "INFO:tensorflow:global_step/sec: 197.815\n",
      "INFO:tensorflow:loss = 33.65441, step = 16501 (0.502 sec)\n",
      "INFO:tensorflow:global_step/sec: 245.178\n",
      "INFO:tensorflow:loss = 29.714848, step = 16601 (0.411 sec)\n",
      "INFO:tensorflow:global_step/sec: 217.192\n",
      "INFO:tensorflow:loss = 31.045334, step = 16701 (0.458 sec)\n",
      "INFO:tensorflow:global_step/sec: 202.037\n",
      "INFO:tensorflow:loss = 39.52472, step = 16801 (0.495 sec)\n",
      "INFO:tensorflow:global_step/sec: 235.278\n",
      "INFO:tensorflow:loss = 29.892271, step = 16901 (0.425 sec)\n",
      "INFO:tensorflow:global_step/sec: 242.406\n",
      "INFO:tensorflow:loss = 48.52636, step = 17001 (0.412 sec)\n",
      "INFO:tensorflow:global_step/sec: 246.163\n",
      "INFO:tensorflow:loss = 32.52264, step = 17101 (0.409 sec)\n",
      "INFO:tensorflow:global_step/sec: 233.371\n",
      "INFO:tensorflow:loss = 28.663961, step = 17201 (0.426 sec)\n",
      "INFO:tensorflow:global_step/sec: 222.374\n",
      "INFO:tensorflow:loss = 26.397896, step = 17301 (0.452 sec)\n",
      "INFO:tensorflow:global_step/sec: 235.625\n",
      "INFO:tensorflow:loss = 33.338943, step = 17401 (0.422 sec)\n",
      "INFO:tensorflow:global_step/sec: 198.48\n",
      "INFO:tensorflow:loss = 30.27784, step = 17501 (0.504 sec)\n",
      "INFO:tensorflow:global_step/sec: 198.245\n",
      "INFO:tensorflow:loss = 27.409784, step = 17601 (0.505 sec)\n",
      "INFO:tensorflow:global_step/sec: 226.751\n",
      "INFO:tensorflow:loss = 26.207888, step = 17701 (0.443 sec)\n",
      "INFO:tensorflow:global_step/sec: 207.902\n",
      "INFO:tensorflow:loss = 30.963055, step = 17801 (0.478 sec)\n",
      "INFO:tensorflow:global_step/sec: 227.574\n",
      "INFO:tensorflow:loss = 25.175537, step = 17901 (0.442 sec)\n",
      "INFO:tensorflow:global_step/sec: 261.047\n",
      "INFO:tensorflow:loss = 28.832949, step = 18001 (0.382 sec)\n",
      "INFO:tensorflow:global_step/sec: 230.637\n",
      "INFO:tensorflow:loss = 23.078182, step = 18101 (0.433 sec)\n",
      "INFO:tensorflow:global_step/sec: 208.266\n",
      "INFO:tensorflow:loss = 34.52938, step = 18201 (0.482 sec)\n",
      "INFO:tensorflow:global_step/sec: 201.014\n",
      "INFO:tensorflow:loss = 34.70575, step = 18301 (0.495 sec)\n",
      "INFO:tensorflow:global_step/sec: 239.089\n",
      "INFO:tensorflow:loss = 33.6795, step = 18401 (0.418 sec)\n",
      "INFO:tensorflow:global_step/sec: 264.327\n",
      "INFO:tensorflow:loss = 40.41137, step = 18501 (0.381 sec)\n",
      "INFO:tensorflow:global_step/sec: 251.469\n",
      "INFO:tensorflow:loss = 30.933147, step = 18601 (0.398 sec)\n",
      "INFO:tensorflow:global_step/sec: 198.753\n",
      "INFO:tensorflow:loss = 25.294903, step = 18701 (0.501 sec)\n",
      "INFO:tensorflow:global_step/sec: 192.074\n",
      "INFO:tensorflow:loss = 31.908714, step = 18801 (0.520 sec)\n",
      "INFO:tensorflow:global_step/sec: 189.515\n",
      "INFO:tensorflow:loss = 28.821648, step = 18901 (0.528 sec)\n",
      "INFO:tensorflow:global_step/sec: 219.347\n",
      "INFO:tensorflow:loss = 34.091686, step = 19001 (0.456 sec)\n",
      "INFO:tensorflow:global_step/sec: 208.629\n",
      "INFO:tensorflow:loss = 34.279987, step = 19101 (0.482 sec)\n",
      "INFO:tensorflow:global_step/sec: 182.272\n",
      "INFO:tensorflow:loss = 21.38966, step = 19201 (0.548 sec)\n",
      "INFO:tensorflow:global_step/sec: 241.143\n",
      "INFO:tensorflow:loss = 26.766857, step = 19301 (0.414 sec)\n",
      "INFO:tensorflow:global_step/sec: 244.639\n",
      "INFO:tensorflow:loss = 36.422527, step = 19401 (0.411 sec)\n",
      "INFO:tensorflow:global_step/sec: 164.283\n",
      "INFO:tensorflow:loss = 23.63039, step = 19501 (0.607 sec)\n",
      "INFO:tensorflow:global_step/sec: 134.796\n",
      "INFO:tensorflow:loss = 34.566494, step = 19601 (0.748 sec)\n",
      "INFO:tensorflow:global_step/sec: 147.324\n",
      "INFO:tensorflow:loss = 46.088566, step = 19701 (0.673 sec)\n",
      "INFO:tensorflow:global_step/sec: 196.306\n",
      "INFO:tensorflow:loss = 33.77828, step = 19801 (0.511 sec)\n",
      "INFO:tensorflow:global_step/sec: 202.052\n",
      "INFO:tensorflow:loss = 24.50186, step = 19901 (0.494 sec)\n",
      "INFO:tensorflow:global_step/sec: 158.046\n",
      "INFO:tensorflow:loss = 33.904476, step = 20001 (0.633 sec)\n",
      "INFO:tensorflow:Saving checkpoints for 20100 into /var/folders/v1/l6r3kv8s1dxc11vbv286xr1h0000gn/T/tmpo23on2zk/model.ckpt.\n",
      "INFO:tensorflow:Loss for final step: 29.293755.\n"
     ]
    },
    {
     "data": {
      "text/plain": [
       "<tensorflow_estimator.python.estimator.canned.dnn.DNNClassifier at 0x1a2d7c3a90>"
      ]
     },
     "execution_count": 177,
     "metadata": {},
     "output_type": "execute_result"
    }
   ],
   "source": [
    "model_dnn.train(input_fn=input_function,steps=20000)"
   ]
  },
  {
   "cell_type": "code",
   "execution_count": 178,
   "metadata": {},
   "outputs": [],
   "source": [
    "pred_func= tf.estimator.inputs.pandas_input_fn(X_test,batch_size=len(X_test),shuffle=False)"
   ]
  },
  {
   "cell_type": "code",
   "execution_count": 180,
   "metadata": {},
   "outputs": [],
   "source": [
    "pred_gen=model_dnn.predict(pred_func)"
   ]
  },
  {
   "cell_type": "code",
   "execution_count": 181,
   "metadata": {},
   "outputs": [
    {
     "name": "stdout",
     "output_type": "stream",
     "text": [
      "INFO:tensorflow:Calling model_fn.\n",
      "INFO:tensorflow:Done calling model_fn.\n",
      "INFO:tensorflow:Graph was finalized.\n",
      "INFO:tensorflow:Restoring parameters from /var/folders/v1/l6r3kv8s1dxc11vbv286xr1h0000gn/T/tmpo23on2zk/model.ckpt-20100\n",
      "INFO:tensorflow:Running local_init_op.\n",
      "INFO:tensorflow:Done running local_init_op.\n"
     ]
    }
   ],
   "source": [
    "predection=list(pred_gen)"
   ]
  },
  {
   "cell_type": "code",
   "execution_count": 182,
   "metadata": {},
   "outputs": [],
   "source": [
    "final_pred=[pred[\"class_ids\"][0] for pred in predection]"
   ]
  },
  {
   "cell_type": "code",
   "execution_count": 184,
   "metadata": {},
   "outputs": [
    {
     "name": "stdout",
     "output_type": "stream",
     "text": [
      "              precision    recall  f1-score   support\n",
      "\n",
      "           0       0.88      0.93      0.90      7401\n",
      "           1       0.72      0.59      0.65      2368\n",
      "\n",
      "   micro avg       0.85      0.85      0.85      9769\n",
      "   macro avg       0.80      0.76      0.78      9769\n",
      "weighted avg       0.84      0.85      0.84      9769\n",
      "\n"
     ]
    }
   ],
   "source": [
    "print(classification_report(y_test,final_pred))"
   ]
  },
  {
   "cell_type": "code",
   "execution_count": null,
   "metadata": {},
   "outputs": [],
   "source": []
  }
 ],
 "metadata": {
  "kernelspec": {
   "display_name": "Python 3",
   "language": "python",
   "name": "python3"
  },
  "language_info": {
   "codemirror_mode": {
    "name": "ipython",
    "version": 3
   },
   "file_extension": ".py",
   "mimetype": "text/x-python",
   "name": "python",
   "nbconvert_exporter": "python",
   "pygments_lexer": "ipython3",
   "version": "3.7.2"
  }
 },
 "nbformat": 4,
 "nbformat_minor": 2
}
